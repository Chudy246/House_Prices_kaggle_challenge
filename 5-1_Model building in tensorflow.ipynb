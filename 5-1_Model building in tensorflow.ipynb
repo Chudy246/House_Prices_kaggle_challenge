{
 "cells": [
  {
   "cell_type": "code",
   "execution_count": 27,
   "metadata": {
    "collapsed": true
   },
   "outputs": [],
   "source": [
    "import pathlib\n",
    "import shutil\n",
    "import tempfile\n",
    "\n",
    "import numpy as np\n",
    "import pandas as pd\n",
    "import tensorflow as tf\n",
    "\n",
    "from tensorflow import keras\n",
    "from tensorflow.keras import layers\n",
    "from tensorflow.keras import losses\n",
    "from tensorflow.keras import regularizers\n",
    "\n",
    "import tensorflow_docs as tfdocs\n",
    "import tensorflow_docs.modeling\n",
    "import tensorflow_docs.plots\n",
    "\n",
    "logdir = pathlib.Path(tempfile.mkdtemp())/\"tensorboard_logs\"\n",
    "shutil.rmtree(logdir, ignore_errors=True)\n"
   ]
  },
  {
   "cell_type": "code",
   "execution_count": 20,
   "outputs": [],
   "source": [
    "# importing preprocessed data, ready for ML\n",
    "X_train = pd.read_csv(\"data/X_train.csv\", index_col=\"Id\")\n",
    "X_valid = pd.read_csv(\"data/X_valid.csv\", index_col=\"Id\")\n",
    "X_test = pd.read_csv(\"data/X_test.csv\", index_col=\"Id\")\n",
    "\n",
    "y_train = pd.read_csv(\"data/y_train.csv\", index_col=\"Id\")\n",
    "y_valid = pd.read_csv(\"data/y_valid.csv\", index_col=\"Id\")\n"
   ],
   "metadata": {
    "collapsed": false,
    "pycharm": {
     "name": "#%%\n"
    }
   }
  },
  {
   "cell_type": "code",
   "execution_count": 21,
   "outputs": [
    {
     "data": {
      "text/plain": "      SalePrice\nId             \n493   12.059809\n66    12.666660\n890   11.915058\n1174  12.208575\n1207  11.580593",
      "text/html": "<div>\n<style scoped>\n    .dataframe tbody tr th:only-of-type {\n        vertical-align: middle;\n    }\n\n    .dataframe tbody tr th {\n        vertical-align: top;\n    }\n\n    .dataframe thead th {\n        text-align: right;\n    }\n</style>\n<table border=\"1\" class=\"dataframe\">\n  <thead>\n    <tr style=\"text-align: right;\">\n      <th></th>\n      <th>SalePrice</th>\n    </tr>\n    <tr>\n      <th>Id</th>\n      <th></th>\n    </tr>\n  </thead>\n  <tbody>\n    <tr>\n      <th>493</th>\n      <td>12.059809</td>\n    </tr>\n    <tr>\n      <th>66</th>\n      <td>12.666660</td>\n    </tr>\n    <tr>\n      <th>890</th>\n      <td>11.915058</td>\n    </tr>\n    <tr>\n      <th>1174</th>\n      <td>12.208575</td>\n    </tr>\n    <tr>\n      <th>1207</th>\n      <td>11.580593</td>\n    </tr>\n  </tbody>\n</table>\n</div>"
     },
     "execution_count": 21,
     "metadata": {},
     "output_type": "execute_result"
    }
   ],
   "source": [
    "# change the \"SalePrice\" to its log since that's what matters in the competition\n",
    "y_train[\"SalePrice\"] = np.log(y_train[\"SalePrice\"] + 1.)\n",
    "y_valid[\"SalePrice\"] = np.log(y_valid[\"SalePrice\"] + 1.)\n",
    "\n",
    "y_valid.head()"
   ],
   "metadata": {
    "collapsed": false,
    "pycharm": {
     "name": "#%%\n"
    }
   }
  },
  {
   "cell_type": "code",
   "execution_count": 22,
   "outputs": [],
   "source": [
    "train_dataset = tf.data.Dataset.from_tensor_slices((X_train.values, y_train.values))\n",
    "valid_dataset = tf.data.Dataset.from_tensor_slices((X_valid.values, y_valid.values))"
   ],
   "metadata": {
    "collapsed": false,
    "pycharm": {
     "name": "#%%\n"
    }
   }
  },
  {
   "cell_type": "code",
   "execution_count": 13,
   "outputs": [
    {
     "name": "stdout",
     "output_type": "stream",
     "text": [
      "Features: [ 3.          3.          0.          0.          0.          3.\n",
      "  0.          1.          2.          0.         77.          6.\n",
      "  2.         -0.8149287  -1.04839648 -1.04746864 -0.9433882  -1.03410302\n",
      " -0.58765809 -0.79879899 -5.60605783 -1.31986297 -0.87635588 -0.10290161\n",
      " -0.96438507 -1.07476831 -1.77713056  0.          0.          0.\n",
      "  1.          0.        ], Target: [72500]\n",
      "Features: [ 4.00000000e+00  3.00000000e+00  3.00000000e+00  2.00000000e+00\n",
      "  1.00000000e+00  3.00000000e+00  4.00000000e+00  1.00000000e+00\n",
      "  2.00000000e+00  0.00000000e+00  6.60000000e+01  4.00000000e+00\n",
      "  3.00000000e+00  1.13156766e+00 -1.04839648e+00 -1.04746864e+00\n",
      "  6.26237749e-01 -1.03410302e+00 -1.57844063e-02 -7.98798988e-01\n",
      " -1.96675345e-02 -9.31739465e-01 -8.76355884e-01 -1.00505618e-01\n",
      " -9.64385071e-01 -1.07476831e+00 -2.81848342e+00  0.00000000e+00\n",
      "  0.00000000e+00  0.00000000e+00  1.00000000e+00  0.00000000e+00], Target: [100000]\n",
      "Features: [ 10.           4.           5.           3.           1.\n",
      "   5.           3.           3.           3.           1.\n",
      " 124.           6.           1.           1.13156766   2.60690827\n",
      "   1.37040364   2.1958637    1.64996881   1.09017137  -0.79879899\n",
      "   0.87701398   2.42963622   1.44293275   0.6153007    1.02303886\n",
      "   0.95953633   1.90239468   0.           0.           0.\n",
      "   1.           0.        ], Target: [745000]\n",
      "Features: [  6.           3.           5.           1.           1.\n",
      "   3.           0.           3.           3.           0.\n",
      " 126.           5.           3.           1.13156766   0.77925589\n",
      "  -1.04746864  -0.9433882    0.3079329   -1.34488494   1.3993131\n",
      "   0.30406709   0.2748461   -0.87635588   0.1462829   -0.96438507\n",
      "   1.49214496  -0.92628332   0.           0.           0.\n",
      "   0.           1.        ], Target: [162000]\n",
      "Features: [  7.           4.           4.           3.           1.\n",
      "   4.           0.           2.           3.           0.\n",
      " 134.           1.           4.           1.13156766   0.77925589\n",
      "  -1.04746864  -0.9433882    0.3079329   -0.5482054    0.42714263\n",
      "   0.29223028   0.28513605  -0.87635588   0.44145982   0.83614731\n",
      "   0.8467213   -0.20690223   0.           0.           0.\n",
      "   1.           0.        ], Target: [206000]\n"
     ]
    }
   ],
   "source": [
    "# for feat, targ in train_dataset.take(5):\n",
    "#   print ('Features: {}, Target: {}'.format(feat, targ))"
   ],
   "metadata": {
    "collapsed": false,
    "pycharm": {
     "name": "#%%\n"
    }
   }
  },
  {
   "cell_type": "code",
   "execution_count": 23,
   "outputs": [],
   "source": [
    "FEATURES = 32\n",
    "N_TRAIN = 1168\n",
    "BUFFER_SIZE = int(1e4)\n",
    "BATCH_SIZE = 200\n",
    "STEPS_PER_EPOCH = N_TRAIN//BATCH_SIZE\n",
    "\n",
    "# enable caching\n",
    "train_dataset = train_dataset.cache()\n",
    "valid_dataset = valid_dataset.cache()"
   ],
   "metadata": {
    "collapsed": false,
    "pycharm": {
     "name": "#%%\n"
    }
   }
  },
  {
   "cell_type": "code",
   "execution_count": 24,
   "outputs": [
    {
     "data": {
      "text/plain": "<BatchDataset shapes: ((None, 32), (None, 1)), types: (tf.float64, tf.float64)>"
     },
     "execution_count": 24,
     "metadata": {},
     "output_type": "execute_result"
    }
   ],
   "source": [
    "# set Batch size\n",
    "valid_dataset.batch(BATCH_SIZE)\n",
    "train_dataset.shuffle(BUFFER_SIZE).repeat().batch(BATCH_SIZE)"
   ],
   "metadata": {
    "collapsed": false,
    "pycharm": {
     "name": "#%%\n"
    }
   }
  },
  {
   "cell_type": "code",
   "execution_count": 25,
   "outputs": [],
   "source": [
    "# training procedure\n",
    "\n",
    "lr_schedule = tf.keras.optimizers.schedules.InverseTimeDecay(\n",
    "  0.001,\n",
    "  decay_steps=STEPS_PER_EPOCH*1000,\n",
    "  decay_rate=1,\n",
    "  staircase=False)\n",
    "\n",
    "def get_optimizer():\n",
    "  return tf.keras.optimizers.Adam(lr_schedule)"
   ],
   "metadata": {
    "collapsed": false,
    "pycharm": {
     "name": "#%%\n"
    }
   }
  },
  {
   "cell_type": "code",
   "execution_count": 28,
   "outputs": [],
   "source": [
    "def get_callbacks(name):\n",
    "  return [\n",
    "    tfdocs.modeling.EpochDots(),\n",
    "    tf.keras.callbacks.EarlyStopping(monitor='val_binary_crossentropy', patience=200),\n",
    "    tf.keras.callbacks.TensorBoard(logdir/name),\n",
    "  ]"
   ],
   "metadata": {
    "collapsed": false,
    "pycharm": {
     "name": "#%%\n"
    }
   }
  },
  {
   "cell_type": "code",
   "execution_count": null,
   "outputs": [],
   "source": [],
   "metadata": {
    "collapsed": false,
    "pycharm": {
     "name": "#%%\n"
    }
   }
  }
 ],
 "metadata": {
  "kernelspec": {
   "display_name": "Python 3",
   "language": "python",
   "name": "python3"
  },
  "language_info": {
   "codemirror_mode": {
    "name": "ipython",
    "version": 2
   },
   "file_extension": ".py",
   "mimetype": "text/x-python",
   "name": "python",
   "nbconvert_exporter": "python",
   "pygments_lexer": "ipython2",
   "version": "2.7.6"
  }
 },
 "nbformat": 4,
 "nbformat_minor": 0
}