{
 "cells": [
  {
   "cell_type": "markdown",
   "metadata": {},
   "source": [
    "# Model building of house prices dataset\n",
    "In this notebook we're going to build three different models for house prices dataset\n",
    "- Linear Regression\n",
    "- Random Forest Regressor\n",
    "- XGBoost Regressor"
   ]
  },
  {
   "cell_type": "code",
   "execution_count": 1,
   "metadata": {},
   "outputs": [],
   "source": [
    "# import libraries\n",
    "import numpy as np\n",
    "import pandas as pd\n",
    "from sklearn.linear_model import LinearRegression\n",
    "from sklearn.metrics import mean_squared_error\n",
    "import statsmodels.api as sm\n",
    "import matplotlib.pyplot as plt\n",
    "import seaborn as sns"
   ]
  },
  {
   "cell_type": "code",
   "execution_count": 2,
   "metadata": {},
   "outputs": [],
   "source": [
    "# import data\n",
    "orig_data = pd.read_csv(\"data/train.csv\")\n",
    "house_data = orig_data.copy()\n",
    "X_train = pd.read_csv(\"data/X_train.csv\", index_col=\"Id\")\n",
    "X_test = pd.read_csv(\"data/X_test.csv\", index_col=\"Id\")\n",
    "y_train = pd.read_csv(\"data/y_train.csv\", index_col=\"Id\")\n",
    "y_test = pd.read_csv(\"data/y_test.csv\", index_col=\"Id\")"
   ]
  },
  {
   "cell_type": "code",
   "execution_count": 3,
   "metadata": {},
   "outputs": [
    {
     "data": {
      "text/plain": [
       "0.808187375908226"
      ]
     },
     "execution_count": 3,
     "metadata": {},
     "output_type": "execute_result"
    }
   ],
   "source": [
    "reg = LinearRegression(fit_intercept=False).fit(X_train, y_train)\n",
    "reg.score(X_train, y_train)"
   ]
  },
  {
   "cell_type": "markdown",
   "metadata": {},
   "source": [
    "Good R-squared score. Around 80% of variation can be explained by the model."
   ]
  },
  {
   "cell_type": "code",
   "execution_count": 4,
   "metadata": {},
   "outputs": [],
   "source": [
    "y_predict = reg.predict(X_test)"
   ]
  },
  {
   "cell_type": "code",
   "execution_count": 5,
   "metadata": {},
   "outputs": [
    {
     "data": {
      "text/plain": [
       "0.03475722404811011"
      ]
     },
     "execution_count": 5,
     "metadata": {},
     "output_type": "execute_result"
    }
   ],
   "source": [
    "mean_squared_error(np.log(y_test + 1), np.log(y_predict + 1))"
   ]
  },
  {
   "cell_type": "markdown",
   "metadata": {},
   "source": [
    "More verbose version of linear regression using statsmodels:"
   ]
  },
  {
   "cell_type": "code",
   "execution_count": 6,
   "metadata": {},
   "outputs": [
    {
     "data": {
      "text/html": [
       "<table class=\"simpletable\">\n",
       "<caption>OLS Regression Results</caption>\n",
       "<tr>\n",
       "  <th>Dep. Variable:</th>        <td>SalePrice</td>    <th>  R-squared:         </th> <td>   0.808</td> \n",
       "</tr>\n",
       "<tr>\n",
       "  <th>Model:</th>                   <td>OLS</td>       <th>  Adj. R-squared:    </th> <td>   0.803</td> \n",
       "</tr>\n",
       "<tr>\n",
       "  <th>Method:</th>             <td>Least Squares</td>  <th>  F-statistic:       </th> <td>   154.4</td> \n",
       "</tr>\n",
       "<tr>\n",
       "  <th>Date:</th>             <td>Sun, 17 Jan 2021</td> <th>  Prob (F-statistic):</th>  <td>  0.00</td>  \n",
       "</tr>\n",
       "<tr>\n",
       "  <th>Time:</th>                 <td>21:59:40</td>     <th>  Log-Likelihood:    </th> <td> -13887.</td> \n",
       "</tr>\n",
       "<tr>\n",
       "  <th>No. Observations:</th>      <td>  1168</td>      <th>  AIC:               </th> <td>2.784e+04</td>\n",
       "</tr>\n",
       "<tr>\n",
       "  <th>Df Residuals:</th>          <td>  1136</td>      <th>  BIC:               </th> <td>2.800e+04</td>\n",
       "</tr>\n",
       "<tr>\n",
       "  <th>Df Model:</th>              <td>    31</td>      <th>                     </th>     <td> </td>    \n",
       "</tr>\n",
       "<tr>\n",
       "  <th>Covariance Type:</th>      <td>nonrobust</td>    <th>                     </th>     <td> </td>    \n",
       "</tr>\n",
       "</table>\n",
       "<table class=\"simpletable\">\n",
       "<tr>\n",
       "          <td></td>            <th>coef</th>     <th>std err</th>      <th>t</th>      <th>P>|t|</th>  <th>[0.025</th>    <th>0.975]</th>  \n",
       "</tr>\n",
       "<tr>\n",
       "  <th>OverallQual</th>      <td> 1.528e+04</td> <td> 1478.367</td> <td>   10.335</td> <td> 0.000</td> <td> 1.24e+04</td> <td> 1.82e+04</td>\n",
       "</tr>\n",
       "<tr>\n",
       "  <th>ExterQual</th>        <td> 1.253e+04</td> <td> 3257.535</td> <td>    3.847</td> <td> 0.000</td> <td> 6140.458</td> <td> 1.89e+04</td>\n",
       "</tr>\n",
       "<tr>\n",
       "  <th>BsmtQual</th>         <td> 1.047e+04</td> <td> 2746.280</td> <td>    3.813</td> <td> 0.000</td> <td> 5084.245</td> <td> 1.59e+04</td>\n",
       "</tr>\n",
       "<tr>\n",
       "  <th>BsmtExposure</th>     <td> 5732.1795</td> <td> 1219.070</td> <td>    4.702</td> <td> 0.000</td> <td> 3340.299</td> <td> 8124.060</td>\n",
       "</tr>\n",
       "<tr>\n",
       "  <th>CentralAir</th>       <td> 2223.7383</td> <td> 4983.157</td> <td>    0.446</td> <td> 0.656</td> <td>-7553.486</td> <td>  1.2e+04</td>\n",
       "</tr>\n",
       "<tr>\n",
       "  <th>KitchenQual</th>      <td> 1.378e+04</td> <td> 2508.770</td> <td>    5.495</td> <td> 0.000</td> <td> 8862.613</td> <td> 1.87e+04</td>\n",
       "</tr>\n",
       "<tr>\n",
       "  <th>FireplaceQu</th>      <td> -105.4172</td> <td> 1280.893</td> <td>   -0.082</td> <td> 0.934</td> <td>-2618.598</td> <td> 2407.764</td>\n",
       "</tr>\n",
       "<tr>\n",
       "  <th>GarageFinish</th>     <td> 1093.3750</td> <td> 1784.448</td> <td>    0.613</td> <td> 0.540</td> <td>-2407.809</td> <td> 4594.558</td>\n",
       "</tr>\n",
       "<tr>\n",
       "  <th>GarageCond</th>       <td> 4976.3701</td> <td> 4368.118</td> <td>    1.139</td> <td> 0.255</td> <td>-3594.116</td> <td> 1.35e+04</td>\n",
       "</tr>\n",
       "<tr>\n",
       "  <th>Fence</th>            <td>  719.1312</td> <td> 1878.557</td> <td>    0.383</td> <td> 0.702</td> <td>-2966.699</td> <td> 4404.962</td>\n",
       "</tr>\n",
       "<tr>\n",
       "  <th>YearBuilt</th>        <td>  -34.5536</td> <td>   71.158</td> <td>   -0.486</td> <td> 0.627</td> <td> -174.170</td> <td>  105.063</td>\n",
       "</tr>\n",
       "<tr>\n",
       "  <th>MoSold</th>           <td> -601.9453</td> <td>  395.886</td> <td>   -1.521</td> <td> 0.129</td> <td>-1378.694</td> <td>  174.804</td>\n",
       "</tr>\n",
       "<tr>\n",
       "  <th>YrSold</th>           <td> -185.0003</td> <td>  806.641</td> <td>   -0.229</td> <td> 0.819</td> <td>-1767.673</td> <td> 1397.672</td>\n",
       "</tr>\n",
       "<tr>\n",
       "  <th>BsmtFullBath</th>     <td> 4918.0110</td> <td> 1197.153</td> <td>    4.108</td> <td> 0.000</td> <td> 2569.132</td> <td> 7266.890</td>\n",
       "</tr>\n",
       "<tr>\n",
       "  <th>FullBath</th>         <td> 1451.8821</td> <td> 1607.018</td> <td>    0.903</td> <td> 0.366</td> <td>-1701.175</td> <td> 4604.939</td>\n",
       "</tr>\n",
       "<tr>\n",
       "  <th>BedroomAbvGr</th>     <td>-4622.6170</td> <td> 1671.121</td> <td>   -2.766</td> <td> 0.006</td> <td>-7901.447</td> <td>-1343.787</td>\n",
       "</tr>\n",
       "<tr>\n",
       "  <th>Fireplaces</th>       <td> 4383.5843</td> <td> 2235.652</td> <td>    1.961</td> <td> 0.050</td> <td>   -2.887</td> <td> 8770.055</td>\n",
       "</tr>\n",
       "<tr>\n",
       "  <th>GarageCars</th>       <td>  1.35e+04</td> <td> 2157.888</td> <td>    6.257</td> <td> 0.000</td> <td> 9268.060</td> <td> 1.77e+04</td>\n",
       "</tr>\n",
       "<tr>\n",
       "  <th>log_LotArea</th>      <td> 9752.5553</td> <td> 1435.156</td> <td>    6.795</td> <td> 0.000</td> <td> 6936.700</td> <td> 1.26e+04</td>\n",
       "</tr>\n",
       "<tr>\n",
       "  <th>log_MasVnrArea</th>   <td> 2600.0636</td> <td> 1241.079</td> <td>    2.095</td> <td> 0.036</td> <td>  164.999</td> <td> 5035.129</td>\n",
       "</tr>\n",
       "<tr>\n",
       "  <th>log_TotalBsmtSF</th>  <td>-4723.2305</td> <td> 1904.731</td> <td>   -2.480</td> <td> 0.013</td> <td>-8460.416</td> <td> -986.045</td>\n",
       "</tr>\n",
       "<tr>\n",
       "  <th>log_1stFlrSF</th>     <td> 1.987e+04</td> <td> 2142.865</td> <td>    9.273</td> <td> 0.000</td> <td> 1.57e+04</td> <td> 2.41e+04</td>\n",
       "</tr>\n",
       "<tr>\n",
       "  <th>log_2ndFlrSF</th>     <td> 1.342e+04</td> <td> 2005.185</td> <td>    6.690</td> <td> 0.000</td> <td> 9481.340</td> <td> 1.73e+04</td>\n",
       "</tr>\n",
       "<tr>\n",
       "  <th>log_GarageArea</th>   <td>-1.088e+04</td> <td> 3785.617</td> <td>   -2.874</td> <td> 0.004</td> <td>-1.83e+04</td> <td>-3452.016</td>\n",
       "</tr>\n",
       "<tr>\n",
       "  <th>log_WoodDeckSF</th>   <td> -348.2210</td> <td> 1191.223</td> <td>   -0.292</td> <td> 0.770</td> <td>-2685.466</td> <td> 1989.024</td>\n",
       "</tr>\n",
       "<tr>\n",
       "  <th>log_OpenPorchSF</th>  <td> -510.8778</td> <td> 1252.374</td> <td>   -0.408</td> <td> 0.683</td> <td>-2968.104</td> <td> 1946.348</td>\n",
       "</tr>\n",
       "<tr>\n",
       "  <th>log_TotRmsAbvGrd</th> <td> 5311.4369</td> <td> 2174.278</td> <td>    2.443</td> <td> 0.015</td> <td> 1045.385</td> <td> 9577.489</td>\n",
       "</tr>\n",
       "<tr>\n",
       "  <th>C (all)</th>          <td>-7.902e+04</td> <td>  1.9e+04</td> <td>   -4.157</td> <td> 0.000</td> <td>-1.16e+05</td> <td>-4.17e+04</td>\n",
       "</tr>\n",
       "<tr>\n",
       "  <th>FV</th>               <td>-5.083e+04</td> <td> 1.72e+04</td> <td>   -2.961</td> <td> 0.003</td> <td>-8.45e+04</td> <td>-1.72e+04</td>\n",
       "</tr>\n",
       "<tr>\n",
       "  <th>RH</th>               <td>-5.423e+04</td> <td> 1.89e+04</td> <td>   -2.876</td> <td> 0.004</td> <td>-9.12e+04</td> <td>-1.72e+04</td>\n",
       "</tr>\n",
       "<tr>\n",
       "  <th>RL</th>               <td>-5.968e+04</td> <td> 1.61e+04</td> <td>   -3.710</td> <td> 0.000</td> <td>-9.12e+04</td> <td>-2.81e+04</td>\n",
       "</tr>\n",
       "<tr>\n",
       "  <th>RM</th>               <td>-6.426e+04</td> <td>  1.6e+04</td> <td>   -4.020</td> <td> 0.000</td> <td>-9.56e+04</td> <td>-3.29e+04</td>\n",
       "</tr>\n",
       "</table>\n",
       "<table class=\"simpletable\">\n",
       "<tr>\n",
       "  <th>Omnibus:</th>       <td>624.341</td> <th>  Durbin-Watson:     </th> <td>   2.082</td> \n",
       "</tr>\n",
       "<tr>\n",
       "  <th>Prob(Omnibus):</th> <td> 0.000</td>  <th>  Jarque-Bera (JB):  </th> <td>29228.850</td>\n",
       "</tr>\n",
       "<tr>\n",
       "  <th>Skew:</th>          <td> 1.743</td>  <th>  Prob(JB):          </th> <td>    0.00</td> \n",
       "</tr>\n",
       "<tr>\n",
       "  <th>Kurtosis:</th>      <td>27.258</td>  <th>  Cond. No.          </th> <td>3.59e+03</td> \n",
       "</tr>\n",
       "</table><br/><br/>Notes:<br/>[1] Standard Errors assume that the covariance matrix of the errors is correctly specified.<br/>[2] The condition number is large, 3.59e+03. This might indicate that there are<br/>strong multicollinearity or other numerical problems."
      ],
      "text/plain": [
       "<class 'statsmodels.iolib.summary.Summary'>\n",
       "\"\"\"\n",
       "                            OLS Regression Results                            \n",
       "==============================================================================\n",
       "Dep. Variable:              SalePrice   R-squared:                       0.808\n",
       "Model:                            OLS   Adj. R-squared:                  0.803\n",
       "Method:                 Least Squares   F-statistic:                     154.4\n",
       "Date:                Sun, 17 Jan 2021   Prob (F-statistic):               0.00\n",
       "Time:                        21:59:40   Log-Likelihood:                -13887.\n",
       "No. Observations:                1168   AIC:                         2.784e+04\n",
       "Df Residuals:                    1136   BIC:                         2.800e+04\n",
       "Df Model:                          31                                         \n",
       "Covariance Type:            nonrobust                                         \n",
       "====================================================================================\n",
       "                       coef    std err          t      P>|t|      [0.025      0.975]\n",
       "------------------------------------------------------------------------------------\n",
       "OverallQual       1.528e+04   1478.367     10.335      0.000    1.24e+04    1.82e+04\n",
       "ExterQual         1.253e+04   3257.535      3.847      0.000    6140.458    1.89e+04\n",
       "BsmtQual          1.047e+04   2746.280      3.813      0.000    5084.245    1.59e+04\n",
       "BsmtExposure      5732.1795   1219.070      4.702      0.000    3340.299    8124.060\n",
       "CentralAir        2223.7383   4983.157      0.446      0.656   -7553.486     1.2e+04\n",
       "KitchenQual       1.378e+04   2508.770      5.495      0.000    8862.613    1.87e+04\n",
       "FireplaceQu       -105.4172   1280.893     -0.082      0.934   -2618.598    2407.764\n",
       "GarageFinish      1093.3750   1784.448      0.613      0.540   -2407.809    4594.558\n",
       "GarageCond        4976.3701   4368.118      1.139      0.255   -3594.116    1.35e+04\n",
       "Fence              719.1312   1878.557      0.383      0.702   -2966.699    4404.962\n",
       "YearBuilt          -34.5536     71.158     -0.486      0.627    -174.170     105.063\n",
       "MoSold            -601.9453    395.886     -1.521      0.129   -1378.694     174.804\n",
       "YrSold            -185.0003    806.641     -0.229      0.819   -1767.673    1397.672\n",
       "BsmtFullBath      4918.0110   1197.153      4.108      0.000    2569.132    7266.890\n",
       "FullBath          1451.8821   1607.018      0.903      0.366   -1701.175    4604.939\n",
       "BedroomAbvGr     -4622.6170   1671.121     -2.766      0.006   -7901.447   -1343.787\n",
       "Fireplaces        4383.5843   2235.652      1.961      0.050      -2.887    8770.055\n",
       "GarageCars         1.35e+04   2157.888      6.257      0.000    9268.060    1.77e+04\n",
       "log_LotArea       9752.5553   1435.156      6.795      0.000    6936.700    1.26e+04\n",
       "log_MasVnrArea    2600.0636   1241.079      2.095      0.036     164.999    5035.129\n",
       "log_TotalBsmtSF  -4723.2305   1904.731     -2.480      0.013   -8460.416    -986.045\n",
       "log_1stFlrSF      1.987e+04   2142.865      9.273      0.000    1.57e+04    2.41e+04\n",
       "log_2ndFlrSF      1.342e+04   2005.185      6.690      0.000    9481.340    1.73e+04\n",
       "log_GarageArea   -1.088e+04   3785.617     -2.874      0.004   -1.83e+04   -3452.016\n",
       "log_WoodDeckSF    -348.2210   1191.223     -0.292      0.770   -2685.466    1989.024\n",
       "log_OpenPorchSF   -510.8778   1252.374     -0.408      0.683   -2968.104    1946.348\n",
       "log_TotRmsAbvGrd  5311.4369   2174.278      2.443      0.015    1045.385    9577.489\n",
       "C (all)          -7.902e+04    1.9e+04     -4.157      0.000   -1.16e+05   -4.17e+04\n",
       "FV               -5.083e+04   1.72e+04     -2.961      0.003   -8.45e+04   -1.72e+04\n",
       "RH               -5.423e+04   1.89e+04     -2.876      0.004   -9.12e+04   -1.72e+04\n",
       "RL               -5.968e+04   1.61e+04     -3.710      0.000   -9.12e+04   -2.81e+04\n",
       "RM               -6.426e+04    1.6e+04     -4.020      0.000   -9.56e+04   -3.29e+04\n",
       "==============================================================================\n",
       "Omnibus:                      624.341   Durbin-Watson:                   2.082\n",
       "Prob(Omnibus):                  0.000   Jarque-Bera (JB):            29228.850\n",
       "Skew:                           1.743   Prob(JB):                         0.00\n",
       "Kurtosis:                      27.258   Cond. No.                     3.59e+03\n",
       "==============================================================================\n",
       "\n",
       "Notes:\n",
       "[1] Standard Errors assume that the covariance matrix of the errors is correctly specified.\n",
       "[2] The condition number is large, 3.59e+03. This might indicate that there are\n",
       "strong multicollinearity or other numerical problems.\n",
       "\"\"\""
      ]
     },
     "execution_count": 6,
     "metadata": {},
     "output_type": "execute_result"
    }
   ],
   "source": [
    "mod = sm.OLS(y_train, X_train)\n",
    "res = mod.fit()\n",
    "res.summary()"
   ]
  },
  {
   "cell_type": "markdown",
   "metadata": {},
   "source": [
    "Most of the variables have low p-values which indicates they are strong predictors of House price.\n",
    "\n",
    "Considering shape of target variable it might be more beneficial to predict its logarithm and then scale the output."
   ]
  },
  {
   "cell_type": "code",
   "execution_count": 7,
   "metadata": {},
   "outputs": [
    {
     "data": {
      "text/plain": [
       "<AxesSubplot:xlabel='SalePrice', ylabel='Count'>"
      ]
     },
     "execution_count": 7,
     "metadata": {},
     "output_type": "execute_result"
    },
    {
     "data": {
      "image/png": "[encoded data removed]",
      "text/plain": [
       "<Figure size 432x288 with 1 Axes>"
      ]
     },
     "metadata": {
      "needs_background": "light"
     },
     "output_type": "display_data"
    }
   ],
   "source": [
    "sns.histplot(data=house_data[\"SalePrice\"])"
   ]
  },
  {
   "cell_type": "code",
   "execution_count": 9,
   "metadata": {},
   "outputs": [
    {
     "data": {
      "text/plain": [
       "0.8820163805249945"
      ]
     },
     "execution_count": 9,
     "metadata": {},
     "output_type": "execute_result"
    }
   ],
   "source": [
    "scaled_y_train = np.log(y_train + 1) \n",
    "reg = LinearRegression(fit_intercept=False).fit(X_train, scaled_y_train)\n",
    "reg.score(X_train, np.log(y_train))"
   ]
  },
  {
   "cell_type": "markdown",
   "metadata": {},
   "source": [
    "As we can see, the corresponding model has even greater value of R-squared."
   ]
  },
  {
   "cell_type": "code",
   "execution_count": 10,
   "metadata": {},
   "outputs": [],
   "source": [
    "y_predict = reg.predict(X_test)"
   ]
  },
  {
   "cell_type": "code",
   "execution_count": 11,
   "metadata": {},
   "outputs": [
    {
     "data": {
      "text/plain": [
       "0.024476643304185"
      ]
     },
     "execution_count": 11,
     "metadata": {},
     "output_type": "execute_result"
    }
   ],
   "source": [
    "mean_squared_error(np.log(y_test + 1), y_predict)"
   ]
  }
 ],
 "metadata": {
  "kernelspec": {
   "display_name": "Python 3",
   "language": "python",
   "name": "python3"
  },
  "language_info": {
   "codemirror_mode": {
    "name": "ipython",
    "version": 3
   },
   "file_extension": ".py",
   "mimetype": "text/x-python",
   "name": "python",
   "nbconvert_exporter": "python",
   "pygments_lexer": "ipython3",
   "version": "3.8.4"
  }
 },
 "nbformat": 4,
 "nbformat_minor": 4
}
