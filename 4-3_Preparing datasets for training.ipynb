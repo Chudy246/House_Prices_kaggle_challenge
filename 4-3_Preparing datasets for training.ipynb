{
 "cells": [
  {
   "cell_type": "code",
   "execution_count": 28,
   "outputs": [],
   "source": [
    "# need to hot one encode and other stuff both train and test data\n",
    "# the save it as test and train data in csv\n",
    "# That I can use for tensorflow model"
   ],
   "metadata": {
    "collapsed": false,
    "pycharm": {
     "name": "#%%\n"
    }
   }
  },
  {
   "cell_type": "markdown",
   "source": [
    "# Preprocess of house prices dataset\n",
    "\n",
    "In this notebook, model features will be chosen and transformed.\n",
    "Final datasets for tensorflow are gonna be prepared both from test and train sets"
   ],
   "metadata": {
    "collapsed": false
   }
  },
  {
   "cell_type": "code",
   "execution_count": 29,
   "outputs": [],
   "source": [
    "# import dataset and libraries\n",
    "import numpy as np\n",
    "import pandas as pd\n",
    "import matplotlib.pyplot as plt\n",
    "import seaborn as sns\n",
    "from scipy.stats import pearsonr\n",
    "from sklearn.model_selection import train_test_split\n",
    "from sklearn.preprocessing import StandardScaler\n",
    "%matplotlib inline\n",
    "pd.plotting.register_matplotlib_converters()\n",
    "plt.rc('figure', figsize=(16, 6))"
   ],
   "metadata": {
    "collapsed": false,
    "pycharm": {
     "name": "#%%\n"
    }
   }
  },
  {
   "cell_type": "code",
   "execution_count": 30,
   "outputs": [],
   "source": [
    "orig_data = pd.read_csv(\"data/train_preprocessed.csv\", index_col=\"Id\")\n",
    "orig_test_data = pd.read_csv(\"data/test_preprocessed.csv\", index_col=\"Id\")"
   ],
   "metadata": {
    "collapsed": false,
    "pycharm": {
     "name": "#%%\n"
    }
   }
  },
  {
   "cell_type": "code",
   "execution_count": 31,
   "outputs": [
    {
     "data": {
      "text/plain": "    MSSubClass MSZoning  LotFrontage  LotArea Street    Alley LotShape  \\\nId                                                                       \n1           60       RL         65.0     8450   Pave  NoAlley      Reg   \n2           20       RL         80.0     9600   Pave  NoAlley      Reg   \n3           60       RL         68.0    11250   Pave  NoAlley      IR1   \n4           70       RL         60.0     9550   Pave  NoAlley      IR1   \n5           60       RL         84.0    14260   Pave  NoAlley      IR1   \n\n   LandContour Utilities LotConfig  ... PoolArea  PoolQC    Fence MiscFeature  \\\nId                                  ...                                         \n1          Lvl    AllPub    Inside  ...        0  NoPool  NoFence   NoFeature   \n2          Lvl    AllPub       FR2  ...        0  NoPool  NoFence   NoFeature   \n3          Lvl    AllPub    Inside  ...        0  NoPool  NoFence   NoFeature   \n4          Lvl    AllPub    Corner  ...        0  NoPool  NoFence   NoFeature   \n5          Lvl    AllPub       FR2  ...        0  NoPool  NoFence   NoFeature   \n\n   MiscVal MoSold  YrSold  SaleType  SaleCondition  SalePrice  \nId                                                             \n1        0      2    2008        WD         Normal     208500  \n2        0      5    2007        WD         Normal     181500  \n3        0      9    2008        WD         Normal     223500  \n4        0      2    2006        WD        Abnorml     140000  \n5        0     12    2008        WD         Normal     250000  \n\n[5 rows x 80 columns]",
      "text/html": "<div>\n<style scoped>\n    .dataframe tbody tr th:only-of-type {\n        vertical-align: middle;\n    }\n\n    .dataframe tbody tr th {\n        vertical-align: top;\n    }\n\n    .dataframe thead th {\n        text-align: right;\n    }\n</style>\n<table border=\"1\" class=\"dataframe\">\n  <thead>\n    <tr style=\"text-align: right;\">\n      <th></th>\n      <th>MSSubClass</th>\n      <th>MSZoning</th>\n      <th>LotFrontage</th>\n      <th>LotArea</th>\n      <th>Street</th>\n      <th>Alley</th>\n      <th>LotShape</th>\n      <th>LandContour</th>\n      <th>Utilities</th>\n      <th>LotConfig</th>\n      <th>...</th>\n      <th>PoolArea</th>\n      <th>PoolQC</th>\n      <th>Fence</th>\n      <th>MiscFeature</th>\n      <th>MiscVal</th>\n      <th>MoSold</th>\n      <th>YrSold</th>\n      <th>SaleType</th>\n      <th>SaleCondition</th>\n      <th>SalePrice</th>\n    </tr>\n    <tr>\n      <th>Id</th>\n      <th></th>\n      <th></th>\n      <th></th>\n      <th></th>\n      <th></th>\n      <th></th>\n      <th></th>\n      <th></th>\n      <th></th>\n      <th></th>\n      <th></th>\n      <th></th>\n      <th></th>\n      <th></th>\n      <th></th>\n      <th></th>\n      <th></th>\n      <th></th>\n      <th></th>\n      <th></th>\n      <th></th>\n    </tr>\n  </thead>\n  <tbody>\n    <tr>\n      <th>1</th>\n      <td>60</td>\n      <td>RL</td>\n      <td>65.0</td>\n      <td>8450</td>\n      <td>Pave</td>\n      <td>NoAlley</td>\n      <td>Reg</td>\n      <td>Lvl</td>\n      <td>AllPub</td>\n      <td>Inside</td>\n      <td>...</td>\n      <td>0</td>\n      <td>NoPool</td>\n      <td>NoFence</td>\n      <td>NoFeature</td>\n      <td>0</td>\n      <td>2</td>\n      <td>2008</td>\n      <td>WD</td>\n      <td>Normal</td>\n      <td>208500</td>\n    </tr>\n    <tr>\n      <th>2</th>\n      <td>20</td>\n      <td>RL</td>\n      <td>80.0</td>\n      <td>9600</td>\n      <td>Pave</td>\n      <td>NoAlley</td>\n      <td>Reg</td>\n      <td>Lvl</td>\n      <td>AllPub</td>\n      <td>FR2</td>\n      <td>...</td>\n      <td>0</td>\n      <td>NoPool</td>\n      <td>NoFence</td>\n      <td>NoFeature</td>\n      <td>0</td>\n      <td>5</td>\n      <td>2007</td>\n      <td>WD</td>\n      <td>Normal</td>\n      <td>181500</td>\n    </tr>\n    <tr>\n      <th>3</th>\n      <td>60</td>\n      <td>RL</td>\n      <td>68.0</td>\n      <td>11250</td>\n      <td>Pave</td>\n      <td>NoAlley</td>\n      <td>IR1</td>\n      <td>Lvl</td>\n      <td>AllPub</td>\n      <td>Inside</td>\n      <td>...</td>\n      <td>0</td>\n      <td>NoPool</td>\n      <td>NoFence</td>\n      <td>NoFeature</td>\n      <td>0</td>\n      <td>9</td>\n      <td>2008</td>\n      <td>WD</td>\n      <td>Normal</td>\n      <td>223500</td>\n    </tr>\n    <tr>\n      <th>4</th>\n      <td>70</td>\n      <td>RL</td>\n      <td>60.0</td>\n      <td>9550</td>\n      <td>Pave</td>\n      <td>NoAlley</td>\n      <td>IR1</td>\n      <td>Lvl</td>\n      <td>AllPub</td>\n      <td>Corner</td>\n      <td>...</td>\n      <td>0</td>\n      <td>NoPool</td>\n      <td>NoFence</td>\n      <td>NoFeature</td>\n      <td>0</td>\n      <td>2</td>\n      <td>2006</td>\n      <td>WD</td>\n      <td>Abnorml</td>\n      <td>140000</td>\n    </tr>\n    <tr>\n      <th>5</th>\n      <td>60</td>\n      <td>RL</td>\n      <td>84.0</td>\n      <td>14260</td>\n      <td>Pave</td>\n      <td>NoAlley</td>\n      <td>IR1</td>\n      <td>Lvl</td>\n      <td>AllPub</td>\n      <td>FR2</td>\n      <td>...</td>\n      <td>0</td>\n      <td>NoPool</td>\n      <td>NoFence</td>\n      <td>NoFeature</td>\n      <td>0</td>\n      <td>12</td>\n      <td>2008</td>\n      <td>WD</td>\n      <td>Normal</td>\n      <td>250000</td>\n    </tr>\n  </tbody>\n</table>\n<p>5 rows × 80 columns</p>\n</div>"
     },
     "execution_count": 31,
     "metadata": {},
     "output_type": "execute_result"
    }
   ],
   "source": [
    "# copying the dataset for analysis\n",
    "house_test_data = orig_test_data.copy()\n",
    "house_data = orig_data.copy()\n",
    "house_data.head()"
   ],
   "metadata": {
    "collapsed": false,
    "pycharm": {
     "name": "#%%\n"
    }
   }
  },
  {
   "cell_type": "markdown",
   "source": [
    "Let's first divide the features into separate categories depending if they are nominal, ordinal, interval or ratio variables:"
   ],
   "metadata": {
    "collapsed": false
   }
  },
  {
   "cell_type": "code",
   "execution_count": 32,
   "outputs": [],
   "source": [
    "categorical_features = [\"MSSubClass\", \"MSZoning\", \"Street\", \"Alley\", \"LotShape\", \"LandContour\", \"Utilities\", \"LotConfig\",\n",
    "                        \"LandSlope\", \"Neighborhood\", \"Condition1\", \"Condition2\", \"BldgType\", \"HouseStyle\", \"OverallQual\",\n",
    "                        \"OverallCond\", \"RoofStyle\", \"RoofMatl\", \"Exterior1st\", \"Exterior2nd\", \"MasVnrType\", \"ExterQual\",\n",
    "                        \"ExterCond\", \"Foundation\", \"BsmtQual\", \"BsmtCond\", \"BsmtExposure\", \"BsmtFinType1\", \"BsmtFinType2\",\n",
    "                        \"Heating\", \"HeatingQC\", \"CentralAir\", \"Electrical\", \"KitchenQual\", \"Functional\", \"FireplaceQu\",\n",
    "                        \"GarageType\", \"GarageFinish\", \"GarageQual\", \"GarageCond\", \"PavedDrive\", 'PoolQC', 'Fence',\n",
    "                        'MiscFeature', 'SaleType', 'SaleCondition']\n",
    "\n",
    "numerical_features = [\"LotFrontage\", \"LotArea\", \"YearBuilt\", \"YearRemodAdd\", \"MasVnrArea\", \"BsmtFinSF1\", \"BsmtFinSF2\",\n",
    "                      \"BsmtUnfSF\", \"TotalBsmtSF\", \"1stFlrSF\", \"2ndFlrSF\", \"LowQualFinSF\", \"GrLivArea\", \"BsmtFullBath\",\n",
    "                      \"BsmtHalfBath\", \"FullBath\", \"HalfBath\", \"BedroomAbvGr\", \"KitchenAbvGr\", \"TotRmsAbvGrd\", 'Fireplaces',\n",
    "                      \"GarageYrBlt\", \"GarageCars\", \"GarageArea\", 'WoodDeckSF', 'OpenPorchSF', 'EnclosedPorch', '3SsnPorch',\n",
    "                      'ScreenPorch', 'PoolArea', \"MiscVal\", 'MoSold', 'YrSold']\n",
    "\n",
    "def plot_numerical_feature(feature, include_non_positive=True):\n",
    "    plot_column = X[feature]\n",
    "    if not include_non_positive:\n",
    "        plot_column = plot_column[plot_column > 0]\n",
    "\n",
    "    print(f\"Description of {feature}\")\n",
    "    print(plot_column.describe(), \"\\n\")\n",
    "    print(f\"Histogram of {feature}\")\n",
    "    plt.figure()\n",
    "    sns.histplot(data=plot_column)\n",
    "    plt.show()\n",
    "    print(f\"Kernel density estimation plot of {feature}\")\n",
    "    plt.figure()\n",
    "    sns.kdeplot(data=plot_column, shade=True)\n",
    "    plt.show()\n",
    "    print(f\"Box plot of {feature}\")\n",
    "    plt.figure()\n",
    "    sns.boxplot(x=plot_column)\n",
    "    plt.show()"
   ],
   "metadata": {
    "collapsed": false,
    "pycharm": {
     "name": "#%%\n"
    }
   }
  },
  {
   "cell_type": "code",
   "execution_count": 33,
   "outputs": [
    {
     "name": "stdout",
     "output_type": "stream",
     "text": [
      "79\n"
     ]
    }
   ],
   "source": [
    "# It might have been beneficial to perform this in the first place, but it's never too late.\n",
    "\n",
    "nominal = [\"MSSubClass\", \"MSZoning\", \"LandContour\", \"LotConfig\", \"Neighborhood\", \"Condition1\", \"Condition2\", \"BldgType\",\n",
    "           \"HouseStyle\", \"RoofStyle\", \"RoofMatl\", \"Exterior1st\", \"Exterior2nd\", \"MasVnrType\", \"Foundation\", \"Heating\",\n",
    "           \"GarageType\", 'MiscFeature', 'SaleType', 'SaleCondition']\n",
    "ordinal = [\"Street\", \"Alley\", \"LotShape\", \"Utilities\", \"LandSlope\", \"OverallQual\", \"OverallCond\", \"ExterQual\", \"ExterCond\",\n",
    "           \"BsmtQual\", \"BsmtCond\", \"BsmtExposure\", \"BsmtFinType1\", \"BsmtFinType2\", \"HeatingQC\", \"CentralAir\", \"Electrical\",\n",
    "           \"KitchenQual\", \"Functional\", \"FireplaceQu\", \"GarageFinish\", \"GarageQual\", \"GarageCond\", \"PavedDrive\", 'PoolQC',\n",
    "           'Fence']\n",
    "interval = [\"YearBuilt\", \"YearRemodAdd\", \"GarageYrBlt\", 'MoSold', 'YrSold']\n",
    "ratio = [\"LotFrontage\", \"LotArea\", \"MasVnrArea\", \"BsmtFinSF1\", \"BsmtFinSF2\", \"BsmtUnfSF\", \"TotalBsmtSF\", \"1stFlrSF\",\n",
    "         \"2ndFlrSF\", \"LowQualFinSF\", \"GrLivArea\", \"BsmtFullBath\", \"BsmtHalfBath\", \"FullBath\", \"HalfBath\", \"BedroomAbvGr\",\n",
    "         \"KitchenAbvGr\", \"TotRmsAbvGrd\", 'Fireplaces', \"GarageCars\", \"GarageArea\", 'WoodDeckSF', 'OpenPorchSF',\n",
    "         'EnclosedPorch', '3SsnPorch','ScreenPorch', 'PoolArea', \"MiscVal\"]\n",
    "print(len(nominal + ordinal + interval + ratio))"
   ],
   "metadata": {
    "collapsed": false,
    "pycharm": {
     "name": "#%%\n"
    }
   }
  },
  {
   "cell_type": "markdown",
   "source": [
    "Now for the first model I will choose a subset of those features which represent most of the characteristics of a house. I tried to choose variables with high variety."
   ],
   "metadata": {
    "collapsed": false
   }
  },
  {
   "cell_type": "code",
   "execution_count": 34,
   "outputs": [],
   "source": [
    "ord_model = [\"OverallQual\", \"ExterQual\", \"BsmtQual\", \"BsmtExposure\", \"CentralAir\", \"KitchenQual\", \"FireplaceQu\", \"GarageFinish\",\n",
    "             \"GarageCond\", \"Fence\"]\n",
    "int_model = [\"YearBuilt\", 'MoSold', 'YrSold']\n",
    "nom_model = [\"MSZoning\"]\n",
    "rat_model = [\"LotArea\", \"MasVnrArea\", \"TotalBsmtSF\", \"1stFlrSF\", \"2ndFlrSF\", \"BsmtFullBath\", \"FullBath\", \"BedroomAbvGr\",\n",
    "             \"TotRmsAbvGrd\", 'Fireplaces', \"GarageCars\", \"GarageArea\", 'WoodDeckSF', 'OpenPorchSF']\n",
    "\n",
    "model_features = nom_model + ord_model + int_model + rat_model"
   ],
   "metadata": {
    "collapsed": false,
    "pycharm": {
     "name": "#%%\n"
    }
   }
  },
  {
   "cell_type": "markdown",
   "source": [
    "All ratio variables will be treated with standards scaler.\n",
    "\n",
    "All interval variables will be normalized to start from 0.\n",
    "\n",
    "I will encode ord_model features with ordinal encoding. \"MSZoning\" will be replaced by one-hot encoding.\n",
    "\n",
    "Ratio features which are heavily skewed or have large number of outliers will be treated with log transformation."
   ],
   "metadata": {
    "collapsed": false
   }
  },
  {
   "cell_type": "code",
   "execution_count": 35,
   "outputs": [],
   "source": [
    "test_X = house_test_data[model_features]\n",
    "X = house_data[model_features]\n",
    "y = house_data[\"SalePrice\"]"
   ],
   "metadata": {
    "collapsed": false,
    "pycharm": {
     "name": "#%%\n"
    }
   }
  },
  {
   "cell_type": "code",
   "execution_count": 36,
   "outputs": [],
   "source": [
    "log_features = [\"LotArea\", \"MasVnrArea\", \"TotalBsmtSF\", \"1stFlrSF\", \"2ndFlrSF\", \"GarageArea\", 'WoodDeckSF',\n",
    "                'OpenPorchSF', \"TotRmsAbvGrd\"]"
   ],
   "metadata": {
    "collapsed": false,
    "pycharm": {
     "name": "#%%\n"
    }
   }
  },
  {
   "cell_type": "code",
   "execution_count": 37,
   "outputs": [
    {
     "name": "stderr",
     "output_type": "stream",
     "text": [
      "<ipython-input-37-f257b85ae3bb>:3: SettingWithCopyWarning: \n",
      "A value is trying to be set on a copy of a slice from a DataFrame.\n",
      "Try using .loc[row_indexer,col_indexer] = value instead\n",
      "\n",
      "See the caveats in the documentation: https://pandas.pydata.org/pandas-docs/stable/user_guide/indexing.html#returning-a-view-versus-a-copy\n",
      "  X['log_' + feature] = transformed_column\n",
      "<ipython-input-37-f257b85ae3bb>:7: SettingWithCopyWarning: \n",
      "A value is trying to be set on a copy of a slice from a DataFrame.\n",
      "Try using .loc[row_indexer,col_indexer] = value instead\n",
      "\n",
      "See the caveats in the documentation: https://pandas.pydata.org/pandas-docs/stable/user_guide/indexing.html#returning-a-view-versus-a-copy\n",
      "  test_X['log_' + feature] = transformed_column\n"
     ]
    }
   ],
   "source": [
    "for feature in log_features:\n",
    "    transformed_column = np.log(X[feature] + 1)\n",
    "    X['log_' + feature] = transformed_column\n",
    "\n",
    "for feature in log_features:\n",
    "    transformed_column = np.log(test_X[feature] + 1)\n",
    "    test_X['log_' + feature] = transformed_column"
   ],
   "metadata": {
    "collapsed": false,
    "pycharm": {
     "name": "#%%\n"
    }
   }
  },
  {
   "cell_type": "code",
   "execution_count": 38,
   "outputs": [],
   "source": [
    "test_X = test_X.drop(log_features, axis=1)\n",
    "X = X.drop(log_features, axis=1)"
   ],
   "metadata": {
    "collapsed": false,
    "pycharm": {
     "name": "#%%\n"
    }
   }
  },
  {
   "cell_type": "code",
   "execution_count": 39,
   "outputs": [],
   "source": [
    "for feature in int_model:\n",
    "    minimum = X[feature].min()\n",
    "    X[feature] = X[feature] - minimum\n",
    "\n",
    "for feature in int_model:\n",
    "    minimum = test_X[feature].min()\n",
    "    test_X[feature] = test_X[feature] - minimum"
   ],
   "metadata": {
    "collapsed": false,
    "pycharm": {
     "name": "#%%\n"
    }
   }
  },
  {
   "cell_type": "code",
   "execution_count": 40,
   "outputs": [
    {
     "data": {
      "text/plain": "['OverallQual',\n 'ExterQual',\n 'BsmtQual',\n 'BsmtExposure',\n 'CentralAir',\n 'KitchenQual',\n 'FireplaceQu',\n 'GarageFinish',\n 'GarageCond',\n 'Fence']"
     },
     "execution_count": 40,
     "metadata": {},
     "output_type": "execute_result"
    }
   ],
   "source": [
    "# changing ordinal variables to their ordinal encodings:\n",
    "ord_model"
   ],
   "metadata": {
    "collapsed": false,
    "pycharm": {
     "name": "#%%\n"
    }
   }
  },
  {
   "cell_type": "code",
   "execution_count": 41,
   "outputs": [],
   "source": [
    "exter_dict = {\"Ex\":5, \"Gd\":4, \"TA\":3, \"Fa\":2, \"Po\":1}\n",
    "bsmt_qual_dict = {\"Ex\":5, \"Gd\":4, \"TA\":3, \"Fa\":2, \"Po\":1, \"NoBsmt\":0}\n",
    "bsmt_exp_dict = {\"Gd\":4, \"Av\":3, \"Mn\":2, \"No\":1, \"NoBsmt\":0}\n",
    "cent_dict = {\"Y\":1, \"N\":0}\n",
    "kitch_dict = exter_dict\n",
    "fire_dict = {\"Ex\":5, \"Gd\":4, \"TA\":3, \"Fa\":2, \"Po\":1, \"NoFireplace\":0}\n",
    "garg_fin_dict = {\"Fin\":3, \"RFn\":2, \"Unf\":1, \"NoGarage\":0}\n",
    "garg_cond_dict = {\"Ex\":5, \"Gd\":4, \"TA\":3, \"Fa\":2, \"Po\":1, \"NoGarage\":0}\n",
    "fence_dict = {\"GdPrv\":2, \"GdWo\":2, \"MnPrv\":1, \"MnWw\":1, \"NoFence\":0}\n",
    "\n",
    "dict_list = [exter_dict, bsmt_qual_dict, bsmt_exp_dict, cent_dict, kitch_dict, fire_dict,\n",
    "             garg_fin_dict, garg_cond_dict, fence_dict]\n",
    "replacement_dict = dict(zip(ord_model[1:], dict_list))"
   ],
   "metadata": {
    "collapsed": false,
    "pycharm": {
     "name": "#%%\n"
    }
   }
  },
  {
   "cell_type": "code",
   "execution_count": 42,
   "outputs": [],
   "source": [
    "test_X = test_X.replace(replacement_dict)\n",
    "X = X.replace(replacement_dict)"
   ],
   "metadata": {
    "collapsed": false,
    "pycharm": {
     "name": "#%%\n"
    }
   }
  },
  {
   "cell_type": "code",
   "execution_count": 43,
   "outputs": [],
   "source": [
    "# changing MSZoning with one_hot_encoding\n",
    "column = X[\"MSZoning\"]\n",
    "ordinal_encoding = column.replace(dict(zip(sorted(set(column)), range(1, len(sorted(set(column))) + 1))))\n",
    "one_hot_encoding = ordinal_encoding.apply(\n",
    "    lambda oe: pd.Series(np.diag(np.ones(len(set(column))))[oe - 1].astype(int))\n",
    ")\n",
    "one_hot_encoding.columns = sorted(set(column))\n",
    "X_one_coded = pd.concat([X, one_hot_encoding], axis=1)\n",
    "\n",
    "\n",
    "# changing MSZoning with one_hot_encoding for test_X\n",
    "column = test_X[\"MSZoning\"]\n",
    "ordinal_encoding = column.replace(dict(zip(sorted(set(column)), range(1, len(sorted(set(column))) + 1))))\n",
    "one_hot_encoding = ordinal_encoding.apply(\n",
    "    lambda oe: pd.Series(np.diag(np.ones(len(set(column))))[oe - 1].astype(int))\n",
    ")\n",
    "one_hot_encoding.columns = sorted(set(column))\n",
    "test_X_one_coded = pd.concat([test_X, one_hot_encoding], axis=1)"
   ],
   "metadata": {
    "collapsed": false,
    "pycharm": {
     "name": "#%%\n"
    }
   }
  },
  {
   "cell_type": "code",
   "execution_count": 44,
   "outputs": [],
   "source": [
    "test_X_one_coded = test_X_one_coded.drop(\"MSZoning\", axis=1)\n",
    "X_one_coded = X_one_coded.drop(\"MSZoning\", axis=1)"
   ],
   "metadata": {
    "collapsed": false,
    "pycharm": {
     "name": "#%%\n"
    }
   }
  },
  {
   "cell_type": "code",
   "execution_count": 45,
   "outputs": [
    {
     "data": {
      "text/plain": "    OverallQual  ExterQual  BsmtQual  BsmtExposure  CentralAir  KitchenQual  \\\nId                                                                            \n1             7          4         4             1           1            4   \n2             6          3         4             4           1            3   \n3             7          4         4             2           1            4   \n4             7          3         3             1           1            4   \n5             8          4         4             3           1            4   \n\n    FireplaceQu  GarageFinish  GarageCond  Fence  ...  log_2ndFlrSF  \\\nId                                                ...                 \n1             0             2           3      0  ...      6.751101   \n2             3             2           3      0  ...      0.000000   \n3             3             2           3      0  ...      6.765039   \n4             4             1           3      0  ...      6.629363   \n5             3             2           3      0  ...      6.960348   \n\n    log_GarageArea  log_WoodDeckSF  log_OpenPorchSF  log_TotRmsAbvGrd  \\\nId                                                                      \n1         6.308098        0.000000         4.127134          2.197225   \n2         6.133398        5.700444         0.000000          1.945910   \n3         6.411818        0.000000         3.761200          1.945910   \n4         6.466145        0.000000         3.583519          2.079442   \n5         6.729824        5.262690         4.442651          2.302585   \n\n    C (all)  FV  RH  RL  RM  \nId                           \n1         0   0   0   1   0  \n2         0   0   0   1   0  \n3         0   0   0   1   0  \n4         0   0   0   1   0  \n5         0   0   0   1   0  \n\n[5 rows x 32 columns]",
      "text/html": "<div>\n<style scoped>\n    .dataframe tbody tr th:only-of-type {\n        vertical-align: middle;\n    }\n\n    .dataframe tbody tr th {\n        vertical-align: top;\n    }\n\n    .dataframe thead th {\n        text-align: right;\n    }\n</style>\n<table border=\"1\" class=\"dataframe\">\n  <thead>\n    <tr style=\"text-align: right;\">\n      <th></th>\n      <th>OverallQual</th>\n      <th>ExterQual</th>\n      <th>BsmtQual</th>\n      <th>BsmtExposure</th>\n      <th>CentralAir</th>\n      <th>KitchenQual</th>\n      <th>FireplaceQu</th>\n      <th>GarageFinish</th>\n      <th>GarageCond</th>\n      <th>Fence</th>\n      <th>...</th>\n      <th>log_2ndFlrSF</th>\n      <th>log_GarageArea</th>\n      <th>log_WoodDeckSF</th>\n      <th>log_OpenPorchSF</th>\n      <th>log_TotRmsAbvGrd</th>\n      <th>C (all)</th>\n      <th>FV</th>\n      <th>RH</th>\n      <th>RL</th>\n      <th>RM</th>\n    </tr>\n    <tr>\n      <th>Id</th>\n      <th></th>\n      <th></th>\n      <th></th>\n      <th></th>\n      <th></th>\n      <th></th>\n      <th></th>\n      <th></th>\n      <th></th>\n      <th></th>\n      <th></th>\n      <th></th>\n      <th></th>\n      <th></th>\n      <th></th>\n      <th></th>\n      <th></th>\n      <th></th>\n      <th></th>\n      <th></th>\n      <th></th>\n    </tr>\n  </thead>\n  <tbody>\n    <tr>\n      <th>1</th>\n      <td>7</td>\n      <td>4</td>\n      <td>4</td>\n      <td>1</td>\n      <td>1</td>\n      <td>4</td>\n      <td>0</td>\n      <td>2</td>\n      <td>3</td>\n      <td>0</td>\n      <td>...</td>\n      <td>6.751101</td>\n      <td>6.308098</td>\n      <td>0.000000</td>\n      <td>4.127134</td>\n      <td>2.197225</td>\n      <td>0</td>\n      <td>0</td>\n      <td>0</td>\n      <td>1</td>\n      <td>0</td>\n    </tr>\n    <tr>\n      <th>2</th>\n      <td>6</td>\n      <td>3</td>\n      <td>4</td>\n      <td>4</td>\n      <td>1</td>\n      <td>3</td>\n      <td>3</td>\n      <td>2</td>\n      <td>3</td>\n      <td>0</td>\n      <td>...</td>\n      <td>0.000000</td>\n      <td>6.133398</td>\n      <td>5.700444</td>\n      <td>0.000000</td>\n      <td>1.945910</td>\n      <td>0</td>\n      <td>0</td>\n      <td>0</td>\n      <td>1</td>\n      <td>0</td>\n    </tr>\n    <tr>\n      <th>3</th>\n      <td>7</td>\n      <td>4</td>\n      <td>4</td>\n      <td>2</td>\n      <td>1</td>\n      <td>4</td>\n      <td>3</td>\n      <td>2</td>\n      <td>3</td>\n      <td>0</td>\n      <td>...</td>\n      <td>6.765039</td>\n      <td>6.411818</td>\n      <td>0.000000</td>\n      <td>3.761200</td>\n      <td>1.945910</td>\n      <td>0</td>\n      <td>0</td>\n      <td>0</td>\n      <td>1</td>\n      <td>0</td>\n    </tr>\n    <tr>\n      <th>4</th>\n      <td>7</td>\n      <td>3</td>\n      <td>3</td>\n      <td>1</td>\n      <td>1</td>\n      <td>4</td>\n      <td>4</td>\n      <td>1</td>\n      <td>3</td>\n      <td>0</td>\n      <td>...</td>\n      <td>6.629363</td>\n      <td>6.466145</td>\n      <td>0.000000</td>\n      <td>3.583519</td>\n      <td>2.079442</td>\n      <td>0</td>\n      <td>0</td>\n      <td>0</td>\n      <td>1</td>\n      <td>0</td>\n    </tr>\n    <tr>\n      <th>5</th>\n      <td>8</td>\n      <td>4</td>\n      <td>4</td>\n      <td>3</td>\n      <td>1</td>\n      <td>4</td>\n      <td>3</td>\n      <td>2</td>\n      <td>3</td>\n      <td>0</td>\n      <td>...</td>\n      <td>6.960348</td>\n      <td>6.729824</td>\n      <td>5.262690</td>\n      <td>4.442651</td>\n      <td>2.302585</td>\n      <td>0</td>\n      <td>0</td>\n      <td>0</td>\n      <td>1</td>\n      <td>0</td>\n    </tr>\n  </tbody>\n</table>\n<p>5 rows × 32 columns</p>\n</div>"
     },
     "execution_count": 45,
     "metadata": {},
     "output_type": "execute_result"
    }
   ],
   "source": [
    "X_one_coded.head()"
   ],
   "metadata": {
    "collapsed": false,
    "pycharm": {
     "name": "#%%\n"
    }
   }
  },
  {
   "cell_type": "code",
   "execution_count": 46,
   "outputs": [],
   "source": [
    "# Split for train and validation data\n",
    "X_train,X_valid,y_train,y_valid = train_test_split(X_one_coded,y,random_state=37,test_size=0.2)"
   ],
   "metadata": {
    "collapsed": false,
    "pycharm": {
     "name": "#%%\n"
    }
   }
  },
  {
   "cell_type": "markdown",
   "source": [
    "At last let's rescale ratio variables:"
   ],
   "metadata": {
    "collapsed": false
   }
  },
  {
   "cell_type": "code",
   "execution_count": 47,
   "outputs": [
    {
     "name": "stderr",
     "output_type": "stream",
     "text": [
      "<ipython-input-47-b735efeadb3c>:7: SettingWithCopyWarning: \n",
      "A value is trying to be set on a copy of a slice from a DataFrame.\n",
      "Try using .loc[row_indexer,col_indexer] = value instead\n",
      "\n",
      "See the caveats in the documentation: https://pandas.pydata.org/pandas-docs/stable/user_guide/indexing.html#returning-a-view-versus-a-copy\n",
      "  X_train[ratio_log_features] = scaler.transform(X_train[ratio_log_features])\n",
      "c:\\python\\python38_data\\lib\\site-packages\\pandas\\core\\indexing.py:1738: SettingWithCopyWarning: \n",
      "A value is trying to be set on a copy of a slice from a DataFrame.\n",
      "Try using .loc[row_indexer,col_indexer] = value instead\n",
      "\n",
      "See the caveats in the documentation: https://pandas.pydata.org/pandas-docs/stable/user_guide/indexing.html#returning-a-view-versus-a-copy\n",
      "  self._setitem_single_column(loc, value[:, i].tolist(), pi)\n"
     ]
    }
   ],
   "source": [
    "ratio_log_features = [\"log_LotArea\", \"log_MasVnrArea\", \"log_TotalBsmtSF\", \"log_1stFlrSF\", \"log_2ndFlrSF\", \"BsmtFullBath\",\n",
    "                      \"FullBath\", \"BedroomAbvGr\", \"log_TotRmsAbvGrd\", 'Fireplaces', \"GarageCars\", \"log_GarageArea\",\n",
    "                      'log_WoodDeckSF', 'log_OpenPorchSF']\n",
    "\n",
    "scaler = StandardScaler()\n",
    "scaler.fit(X_train[ratio_log_features])\n",
    "X_train[ratio_log_features] = scaler.transform(X_train[ratio_log_features])"
   ],
   "metadata": {
    "collapsed": false,
    "pycharm": {
     "name": "#%%\n"
    }
   }
  },
  {
   "cell_type": "code",
   "execution_count": 48,
   "outputs": [
    {
     "name": "stderr",
     "output_type": "stream",
     "text": [
      "<ipython-input-48-c2aa11f1eb00>:2: SettingWithCopyWarning: \n",
      "A value is trying to be set on a copy of a slice from a DataFrame.\n",
      "Try using .loc[row_indexer,col_indexer] = value instead\n",
      "\n",
      "See the caveats in the documentation: https://pandas.pydata.org/pandas-docs/stable/user_guide/indexing.html#returning-a-view-versus-a-copy\n",
      "  X_valid[ratio_log_features] = scaler.transform(X_valid[ratio_log_features])\n",
      "c:\\python\\python38_data\\lib\\site-packages\\pandas\\core\\indexing.py:1738: SettingWithCopyWarning: \n",
      "A value is trying to be set on a copy of a slice from a DataFrame.\n",
      "Try using .loc[row_indexer,col_indexer] = value instead\n",
      "\n",
      "See the caveats in the documentation: https://pandas.pydata.org/pandas-docs/stable/user_guide/indexing.html#returning-a-view-versus-a-copy\n",
      "  self._setitem_single_column(loc, value[:, i].tolist(), pi)\n"
     ]
    }
   ],
   "source": [
    "# Let's scale valid and test data in the same way as train data (for consistency)\n",
    "X_valid[ratio_log_features] = scaler.transform(X_valid[ratio_log_features])\n",
    "test_X_one_coded[ratio_log_features] = scaler.transform(test_X_one_coded[ratio_log_features])\n",
    "\n"
   ],
   "metadata": {
    "collapsed": false,
    "pycharm": {
     "name": "#%%\n"
    }
   }
  },
  {
   "cell_type": "code",
   "execution_count": 49,
   "outputs": [],
   "source": [
    "# Let's save those values for model building:\n",
    "X_train.to_csv(\"data/X_train.csv\")\n",
    "X_valid.to_csv(\"data/X_valid.csv\")\n",
    "y_train.to_csv(\"data/y_train.csv\")\n",
    "y_valid.to_csv(\"data/y_valid.csv\")\n",
    "test_X_one_coded.to_csv(\"data/X_test.csv\")"
   ],
   "metadata": {
    "collapsed": false,
    "pycharm": {
     "name": "#%%\n"
    }
   }
  },
  {
   "cell_type": "code",
   "execution_count": 49,
   "outputs": [],
   "source": [
    "\n"
   ],
   "metadata": {
    "collapsed": false,
    "pycharm": {
     "name": "#%%\n"
    }
   }
  }
 ],
 "metadata": {
  "kernelspec": {
   "display_name": "Python 3",
   "language": "python",
   "name": "python3"
  },
  "language_info": {
   "codemirror_mode": {
    "name": "ipython",
    "version": 2
   },
   "file_extension": ".py",
   "mimetype": "text/x-python",
   "name": "python",
   "nbconvert_exporter": "python",
   "pygments_lexer": "ipython2",
   "version": "2.7.6"
  }
 },
 "nbformat": 4,
 "nbformat_minor": 0
}