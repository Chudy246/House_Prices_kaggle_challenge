{
 "cells": [
  {
   "cell_type": "code",
   "execution_count": null,
   "outputs": [],
   "source": [
    "import numpy as np\n",
    "import pandas as pd"
   ],
   "metadata": {
    "collapsed": false,
    "pycharm": {
     "name": "#%%\n"
    }
   }
  },
  {
   "cell_type": "code",
   "execution_count": null,
   "outputs": [],
   "source": [
    "# need to hot one encode and other stuff both train and test data\n",
    "# the save it as test and train data in csv\n",
    "# That I can use for tensorflow model"
   ],
   "metadata": {
    "collapsed": false,
    "pycharm": {
     "name": "#%%\n"
    }
   }
  },
  {
   "cell_type": "markdown",
   "source": [
    "# Preprocess of house prices dataset\n",
    "In the following notebooks we're going to preprocess the data, that is remove missing variables, transform the variables and treat outliers. We're also going to build a specialized pipeline for those transformations.\n",
    "\n",
    "In this notebook specifically, model features will be chosen and transformed."
   ],
   "metadata": {
    "collapsed": false
   }
  },
  {
   "cell_type": "code",
   "execution_count": null,
   "outputs": [],
   "source": [
    "# import dataset and libraries\n",
    "import numpy as np\n",
    "import pandas as pd\n",
    "import matplotlib.pyplot as plt\n",
    "import seaborn as sns\n",
    "from scipy.stats import pearsonr\n",
    "from sklearn.model_selection import train_test_split\n",
    "from sklearn.preprocessing import StandardScaler\n",
    "%matplotlib inline\n",
    "pd.plotting.register_matplotlib_converters()\n",
    "plt.rc('figure', figsize=(16, 6))"
   ],
   "metadata": {
    "collapsed": false,
    "pycharm": {
     "name": "#%%\n"
    }
   }
  },
  {
   "cell_type": "code",
   "execution_count": null,
   "outputs": [],
   "source": [
    "orig_data = pd.read_csv(\"data/train_preprocessed.csv\", index_col=\"Id\")"
   ],
   "metadata": {
    "collapsed": false,
    "pycharm": {
     "name": "#%%\n"
    }
   }
  },
  {
   "cell_type": "code",
   "execution_count": null,
   "outputs": [],
   "source": [
    "# copying the dataset for analysis\n",
    "house_data = orig_data.copy()\n",
    "house_data.head()"
   ],
   "metadata": {
    "collapsed": false,
    "pycharm": {
     "name": "#%%\n"
    }
   }
  },
  {
   "cell_type": "markdown",
   "source": [
    "Let's first divide the features into separate categories depending if they are nominal, ordinal, interval or ratio variables:"
   ],
   "metadata": {
    "collapsed": false
   }
  },
  {
   "cell_type": "code",
   "execution_count": null,
   "outputs": [],
   "source": [
    "categorical_features = [\"MSSubClass\", \"MSZoning\", \"Street\", \"Alley\", \"LotShape\", \"LandContour\", \"Utilities\", \"LotConfig\",\n",
    "                        \"LandSlope\", \"Neighborhood\", \"Condition1\", \"Condition2\", \"BldgType\", \"HouseStyle\", \"OverallQual\",\n",
    "                        \"OverallCond\", \"RoofStyle\", \"RoofMatl\", \"Exterior1st\", \"Exterior2nd\", \"MasVnrType\", \"ExterQual\",\n",
    "                        \"ExterCond\", \"Foundation\", \"BsmtQual\", \"BsmtCond\", \"BsmtExposure\", \"BsmtFinType1\", \"BsmtFinType2\",\n",
    "                        \"Heating\", \"HeatingQC\", \"CentralAir\", \"Electrical\", \"KitchenQual\", \"Functional\", \"FireplaceQu\",\n",
    "                        \"GarageType\", \"GarageFinish\", \"GarageQual\", \"GarageCond\", \"PavedDrive\", 'PoolQC', 'Fence',\n",
    "                        'MiscFeature', 'SaleType', 'SaleCondition']\n",
    "\n",
    "numerical_features = [\"LotFrontage\", \"LotArea\", \"YearBuilt\", \"YearRemodAdd\", \"MasVnrArea\", \"BsmtFinSF1\", \"BsmtFinSF2\",\n",
    "                      \"BsmtUnfSF\", \"TotalBsmtSF\", \"1stFlrSF\", \"2ndFlrSF\", \"LowQualFinSF\", \"GrLivArea\", \"BsmtFullBath\",\n",
    "                      \"BsmtHalfBath\", \"FullBath\", \"HalfBath\", \"BedroomAbvGr\", \"KitchenAbvGr\", \"TotRmsAbvGrd\", 'Fireplaces',\n",
    "                      \"GarageYrBlt\", \"GarageCars\", \"GarageArea\", 'WoodDeckSF', 'OpenPorchSF', 'EnclosedPorch', '3SsnPorch',\n",
    "                      'ScreenPorch', 'PoolArea', \"MiscVal\", 'MoSold', 'YrSold']\n",
    "\n",
    "def plot_numerical_feature(feature, include_non_positive=True):\n",
    "    plot_column = X[feature]\n",
    "    if not include_non_positive:\n",
    "        plot_column = plot_column[plot_column > 0]\n",
    "\n",
    "    print(f\"Description of {feature}\")\n",
    "    print(plot_column.describe(), \"\\n\")\n",
    "    print(f\"Histogram of {feature}\")\n",
    "    plt.figure()\n",
    "    sns.histplot(data=plot_column)\n",
    "    plt.show()\n",
    "    print(f\"Kernel density estimation plot of {feature}\")\n",
    "    plt.figure()\n",
    "    sns.kdeplot(data=plot_column, shade=True)\n",
    "    plt.show()\n",
    "    print(f\"Box plot of {feature}\")\n",
    "    plt.figure()\n",
    "    sns.boxplot(x=plot_column)\n",
    "    plt.show()"
   ],
   "metadata": {
    "collapsed": false,
    "pycharm": {
     "name": "#%%\n"
    }
   }
  },
  {
   "cell_type": "code",
   "execution_count": null,
   "outputs": [],
   "source": [
    "# It might have been beneficial to perform this in the first place, but it's never too late.\n",
    "\n",
    "nominal = [\"MSSubClass\", \"MSZoning\", \"LandContour\", \"LotConfig\", \"Neighborhood\", \"Condition1\", \"Condition2\", \"BldgType\",\n",
    "           \"HouseStyle\", \"RoofStyle\", \"RoofMatl\", \"Exterior1st\", \"Exterior2nd\", \"MasVnrType\", \"Foundation\", \"Heating\",\n",
    "           \"GarageType\", 'MiscFeature', 'SaleType', 'SaleCondition']\n",
    "ordinal = [\"Street\", \"Alley\", \"LotShape\", \"Utilities\", \"LandSlope\", \"OverallQual\", \"OverallCond\", \"ExterQual\", \"ExterCond\",\n",
    "           \"BsmtQual\", \"BsmtCond\", \"BsmtExposure\", \"BsmtFinType1\", \"BsmtFinType2\", \"HeatingQC\", \"CentralAir\", \"Electrical\",\n",
    "           \"KitchenQual\", \"Functional\", \"FireplaceQu\", \"GarageFinish\", \"GarageQual\", \"GarageCond\", \"PavedDrive\", 'PoolQC',\n",
    "           'Fence']\n",
    "interval = [\"YearBuilt\", \"YearRemodAdd\", \"GarageYrBlt\", 'MoSold', 'YrSold']\n",
    "ratio = [\"LotFrontage\", \"LotArea\", \"MasVnrArea\", \"BsmtFinSF1\", \"BsmtFinSF2\", \"BsmtUnfSF\", \"TotalBsmtSF\", \"1stFlrSF\",\n",
    "         \"2ndFlrSF\", \"LowQualFinSF\", \"GrLivArea\", \"BsmtFullBath\", \"BsmtHalfBath\", \"FullBath\", \"HalfBath\", \"BedroomAbvGr\",\n",
    "         \"KitchenAbvGr\", \"TotRmsAbvGrd\", 'Fireplaces', \"GarageCars\", \"GarageArea\", 'WoodDeckSF', 'OpenPorchSF',\n",
    "         'EnclosedPorch', '3SsnPorch','ScreenPorch', 'PoolArea', \"MiscVal\"]\n",
    "print(len(nominal + ordinal + interval + ratio))"
   ],
   "metadata": {
    "collapsed": false,
    "pycharm": {
     "name": "#%%\n"
    }
   }
  },
  {
   "cell_type": "markdown",
   "source": [
    "Now for the first model I will choose a subset of those features which represent most of the characteristics of a house. I tried to choose variables with high variety."
   ],
   "metadata": {
    "collapsed": false
   }
  },
  {
   "cell_type": "code",
   "execution_count": null,
   "outputs": [],
   "source": [
    "ord_model = [\"OverallQual\", \"ExterQual\", \"BsmtQual\", \"BsmtExposure\", \"CentralAir\", \"KitchenQual\", \"FireplaceQu\", \"GarageFinish\",\n",
    "             \"GarageCond\", \"Fence\"]\n",
    "int_model = [\"YearBuilt\", 'MoSold', 'YrSold']\n",
    "nom_model = [\"MSZoning\"]\n",
    "rat_model = [\"LotArea\", \"MasVnrArea\", \"TotalBsmtSF\", \"1stFlrSF\", \"2ndFlrSF\", \"BsmtFullBath\", \"FullBath\", \"BedroomAbvGr\",\n",
    "             \"TotRmsAbvGrd\", 'Fireplaces', \"GarageCars\", \"GarageArea\", 'WoodDeckSF', 'OpenPorchSF']\n",
    "\n",
    "model_features = nom_model + ord_model + int_model + rat_model"
   ],
   "metadata": {
    "collapsed": false,
    "pycharm": {
     "name": "#%%\n"
    }
   }
  },
  {
   "cell_type": "markdown",
   "source": [
    "All ratio variables will be treated with standards scaler.\n",
    "\n",
    "All interval variables will be normalized to start from 0.\n",
    "\n",
    "I will encode ord_model features with ordinal encoding. \"MSZoning\" will be replaced by one-hot encoding.\n",
    "\n",
    "Ratio features which are heavily skewed or have large number of outliers will be treated with log transformation."
   ],
   "metadata": {
    "collapsed": false
   }
  },
  {
   "cell_type": "code",
   "execution_count": null,
   "outputs": [],
   "source": [
    "X = house_data[model_features]\n",
    "y = house_data[\"SalePrice\"]"
   ],
   "metadata": {
    "collapsed": false,
    "pycharm": {
     "name": "#%%\n"
    }
   }
  },
  {
   "cell_type": "code",
   "execution_count": null,
   "outputs": [],
   "source": [
    "log_features = [\"LotArea\", \"MasVnrArea\", \"TotalBsmtSF\", \"1stFlrSF\", \"2ndFlrSF\", \"GarageArea\", 'WoodDeckSF',\n",
    "                'OpenPorchSF', \"TotRmsAbvGrd\"]"
   ],
   "metadata": {
    "collapsed": false,
    "pycharm": {
     "name": "#%%\n"
    }
   }
  },
  {
   "cell_type": "code",
   "execution_count": null,
   "outputs": [],
   "source": [
    "for feature in log_features:\n",
    "    plt.figure()\n",
    "    sns.histplot(data=X[feature])\n",
    "    plt.show()"
   ],
   "metadata": {
    "collapsed": false,
    "pycharm": {
     "name": "#%%\n"
    }
   }
  },
  {
   "cell_type": "markdown",
   "source": [
    "In comparison the variable with taken logarithm:"
   ],
   "metadata": {
    "collapsed": false
   }
  },
  {
   "cell_type": "code",
   "execution_count": null,
   "outputs": [],
   "source": [
    "for feature in log_features:\n",
    "    plt.figure()\n",
    "    sns.histplot(data=np.log(X[feature] + 1))  # +1 so the 0 is mapped to itself\n",
    "    plt.show()"
   ],
   "metadata": {
    "collapsed": false,
    "pycharm": {
     "name": "#%%\n"
    }
   }
  },
  {
   "cell_type": "markdown",
   "source": [
    "Where we see that number of outliers decreased significantly. Couple of notes:\n",
    "- LotArea still has a lot of outliers, might need to adjust it in future models\n",
    "- many variables have an accumulation in one point and then a special value of 0 which indicates that house didn't have a specific feature, might need to adjust these variables to remove these special 0 values."
   ],
   "metadata": {
    "collapsed": false
   }
  },
  {
   "cell_type": "code",
   "execution_count": null,
   "outputs": [],
   "source": [
    "for feature in log_features:\n",
    "    transformed_column = np.log(X[feature] + 1)\n",
    "    X['log_' + feature] = transformed_column"
   ],
   "metadata": {
    "collapsed": false,
    "pycharm": {
     "name": "#%%\n"
    }
   }
  },
  {
   "cell_type": "code",
   "execution_count": null,
   "outputs": [],
   "source": [
    "X = X.drop(log_features, axis=1)"
   ],
   "metadata": {
    "collapsed": false,
    "pycharm": {
     "name": "#%%\n"
    }
   }
  },
  {
   "cell_type": "code",
   "execution_count": null,
   "outputs": [],
   "source": [
    "for feature in int_model:\n",
    "    minimum = X[feature].min()\n",
    "    X[feature] = X[feature] - minimum"
   ],
   "metadata": {
    "collapsed": false,
    "pycharm": {
     "name": "#%%\n"
    }
   }
  },
  {
   "cell_type": "code",
   "execution_count": null,
   "outputs": [],
   "source": [
    "# changing ordinal variables to their ordinal encodings:\n",
    "ord_model"
   ],
   "metadata": {
    "collapsed": false,
    "pycharm": {
     "name": "#%%\n"
    }
   }
  },
  {
   "cell_type": "code",
   "execution_count": null,
   "outputs": [],
   "source": [
    "exter_dict = {\"Ex\":5, \"Gd\":4, \"TA\":3, \"Fa\":2, \"Po\":1}\n",
    "bsmt_qual_dict = {\"Ex\":5, \"Gd\":4, \"TA\":3, \"Fa\":2, \"Po\":1, \"NoBsmt\":0}\n",
    "bsmt_exp_dict = {\"Gd\":4, \"Av\":3, \"Mn\":2, \"No\":1, \"NoBsmt\":0}\n",
    "cent_dict = {\"Y\":1, \"N\":0}\n",
    "kitch_dict = exter_dict\n",
    "fire_dict = {\"Ex\":5, \"Gd\":4, \"TA\":3, \"Fa\":2, \"Po\":1, \"NoFireplace\":0}\n",
    "garg_fin_dict = {\"Fin\":3, \"RFn\":2, \"Unf\":1, \"NoGarage\":0}\n",
    "garg_cond_dict = {\"Ex\":5, \"Gd\":4, \"TA\":3, \"Fa\":2, \"Po\":1, \"NoGarage\":0}\n",
    "fence_dict = {\"GdPrv\":2, \"GdWo\":2, \"MnPrv\":1, \"MnWw\":1, \"NoFence\":0}\n",
    "\n",
    "dict_list = [exter_dict, bsmt_qual_dict, bsmt_exp_dict, cent_dict, kitch_dict, fire_dict,\n",
    "             garg_fin_dict, garg_cond_dict, fence_dict]\n",
    "replacement_dict = dict(zip(ord_model[1:], dict_list))"
   ],
   "metadata": {
    "collapsed": false,
    "pycharm": {
     "name": "#%%\n"
    }
   }
  },
  {
   "cell_type": "code",
   "execution_count": null,
   "outputs": [],
   "source": [
    "X = X.replace(replacement_dict)"
   ],
   "metadata": {
    "collapsed": false,
    "pycharm": {
     "name": "#%%\n"
    }
   }
  },
  {
   "cell_type": "code",
   "execution_count": null,
   "outputs": [],
   "source": [
    "# changing MSZoning with one_hot_encoding\n",
    "column = X[\"MSZoning\"]\n",
    "ordinal_encoding = column.replace(dict(zip(sorted(set(column)), range(1, len(sorted(set(column))) + 1))))\n",
    "one_hot_encoding = ordinal_encoding.apply(\n",
    "    lambda oe: pd.Series(np.diag(np.ones(len(set(column))))[oe - 1].astype(int))\n",
    ")\n",
    "one_hot_encoding.columns = sorted(set(column))\n",
    "X_one_coded = pd.concat([X, one_hot_encoding], axis=1)"
   ],
   "metadata": {
    "collapsed": false,
    "pycharm": {
     "name": "#%%\n"
    }
   }
  },
  {
   "cell_type": "code",
   "execution_count": null,
   "outputs": [],
   "source": [
    "X_one_coded.head()"
   ],
   "metadata": {
    "collapsed": false,
    "pycharm": {
     "name": "#%%\n"
    }
   }
  },
  {
   "cell_type": "code",
   "execution_count": null,
   "outputs": [],
   "source": [
    "X_one_coded = X_one_coded.drop(\"MSZoning\", axis=1)"
   ],
   "metadata": {
    "collapsed": false,
    "pycharm": {
     "name": "#%%\n"
    }
   }
  },
  {
   "cell_type": "code",
   "execution_count": null,
   "outputs": [],
   "source": [
    "X_one_coded.head()"
   ],
   "metadata": {
    "collapsed": false,
    "pycharm": {
     "name": "#%%\n"
    }
   }
  },
  {
   "cell_type": "code",
   "execution_count": null,
   "outputs": [],
   "source": [
    "X_train,X_test,y_train,y_test = train_test_split(X_one_coded,y,random_state=37,test_size=0.2)"
   ],
   "metadata": {
    "collapsed": false,
    "pycharm": {
     "name": "#%%\n"
    }
   }
  },
  {
   "cell_type": "markdown",
   "source": [
    "At last let's rescale ratio variables:"
   ],
   "metadata": {
    "collapsed": false
   }
  },
  {
   "cell_type": "code",
   "execution_count": null,
   "outputs": [],
   "source": [
    "ratio_log_features = [\"log_LotArea\", \"log_MasVnrArea\", \"log_TotalBsmtSF\", \"log_1stFlrSF\", \"log_2ndFlrSF\", \"BsmtFullBath\",\n",
    "                      \"FullBath\", \"BedroomAbvGr\", \"log_TotRmsAbvGrd\", 'Fireplaces', \"GarageCars\", \"log_GarageArea\",\n",
    "                      'log_WoodDeckSF', 'log_OpenPorchSF']\n",
    "\n",
    "scaler = StandardScaler()\n",
    "scaler.fit(X_train[ratio_log_features])\n",
    "X_train[ratio_log_features] = scaler.transform(X_train[ratio_log_features])"
   ],
   "metadata": {
    "collapsed": false,
    "pycharm": {
     "name": "#%%\n"
    }
   }
  },
  {
   "cell_type": "code",
   "execution_count": null,
   "outputs": [],
   "source": [
    "X_train.head()"
   ],
   "metadata": {
    "collapsed": false,
    "pycharm": {
     "name": "#%%\n"
    }
   }
  },
  {
   "cell_type": "markdown",
   "source": [
    "And the same with X_test:"
   ],
   "metadata": {
    "collapsed": false
   }
  },
  {
   "cell_type": "code",
   "execution_count": null,
   "outputs": [],
   "source": [
    "scaler = StandardScaler()\n",
    "scaler.fit(X_test[ratio_log_features])\n",
    "X_test[ratio_log_features] = scaler.transform(X_test[ratio_log_features])"
   ],
   "metadata": {
    "collapsed": false,
    "pycharm": {
     "name": "#%%\n"
    }
   }
  },
  {
   "cell_type": "code",
   "execution_count": null,
   "outputs": [],
   "source": [
    "X_test.head()"
   ],
   "metadata": {
    "collapsed": false,
    "pycharm": {
     "name": "#%%\n"
    }
   }
  },
  {
   "cell_type": "code",
   "execution_count": null,
   "outputs": [],
   "source": [
    "# Let's save those values for model building:\n",
    "X_train.to_csv(\"data/X_train.csv\")\n",
    "X_test.to_csv(\"data/X_test.csv\")\n",
    "y_train.to_csv(\"data/y_train.csv\")\n",
    "y_test.to_csv(\"data/y_test.csv\")"
   ],
   "metadata": {
    "collapsed": false,
    "pycharm": {
     "name": "#%%\n"
    }
   }
  }
 ],
 "metadata": {
  "kernelspec": {
   "display_name": "Python 3",
   "language": "python",
   "name": "python3"
  },
  "language_info": {
   "codemirror_mode": {
    "name": "ipython",
    "version": 2
   },
   "file_extension": ".py",
   "mimetype": "text/x-python",
   "name": "python",
   "nbconvert_exporter": "python",
   "pygments_lexer": "ipython2",
   "version": "2.7.6"
  }
 },
 "nbformat": 4,
 "nbformat_minor": 0
}