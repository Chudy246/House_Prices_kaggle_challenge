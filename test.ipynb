{
 "cells": [
  {
   "cell_type": "code",
   "execution_count": 1,
   "metadata": {
    "collapsed": true
   },
   "outputs": [],
   "source": [
    "import numpy as np\n",
    "from sklearn.metrics import mean_absolute_error"
   ]
  },
  {
   "cell_type": "code",
   "execution_count": 2,
   "outputs": [
    {
     "data": {
      "text/plain": "(-1+1.2246467991473532e-16j)"
     },
     "execution_count": 2,
     "metadata": {},
     "output_type": "execute_result"
    }
   ],
   "source": [
    "np.exp(1j*np.pi)"
   ],
   "metadata": {
    "collapsed": false,
    "pycharm": {
     "name": "#%%\n"
    }
   }
  },
  {
   "cell_type": "code",
   "execution_count": 3,
   "outputs": [
    {
     "name": "stdout",
     "output_type": "stream",
     "text": [
      "0.5863274489179692\n",
      "0.5130312678952493\n"
     ]
    }
   ],
   "source": [
    "x = 2*np.random.rand(1000) - 1\n",
    "print(np.std(x))\n",
    "print(mean_absolute_error(x, [np.mean(x) for i in range(1000)]))"
   ],
   "metadata": {
    "collapsed": false,
    "pycharm": {
     "name": "#%%\n"
    }
   }
  },
  {
   "cell_type": "code",
   "execution_count": 3,
   "outputs": [
    {
     "name": "stdout",
     "output_type": "stream",
     "text": [
      "1142.1885179632027\n"
     ]
    }
   ],
   "source": [
    "fact_sum = np.sum([np.log10(i) for i in range(1, 504)])\n",
    "print(fact_sum)"
   ],
   "metadata": {
    "collapsed": false,
    "pycharm": {
     "name": "#%%\n"
    }
   }
  },
  {
   "cell_type": "code",
   "execution_count": 4,
   "outputs": [
    {
     "name": "stdout",
     "output_type": "stream",
     "text": [
      "2.5\n",
      "2.4\n",
      "2.4166666666666665\n",
      "2.413793103448276\n",
      "2.414285714285714\n",
      "2.4142011834319526\n",
      "2.4142156862745097\n",
      "2.414213197969543\n",
      "2.41421362489487\n",
      "2.414213551646055\n",
      "2.414213564213564\n",
      "2.4142135620573204\n",
      "2.4142135624272734\n",
      "2.4142135623637997\n",
      "2.41421356237469\n",
      "2.4142135623728214\n",
      "2.414213562373142\n",
      "2.414213562373087\n",
      "2.4142135623730963\n",
      "2.414213562373095\n"
     ]
    }
   ],
   "source": [
    "n = 2\n",
    "x, y = n, n\n",
    "for i in range(20):\n",
    "    y = x + 1/y\n",
    "    print(y)\n"
   ],
   "metadata": {
    "collapsed": false,
    "pycharm": {
     "name": "#%%\n"
    }
   }
  },
  {
   "cell_type": "code",
   "execution_count": 18,
   "outputs": [
    {
     "name": "stdout",
     "output_type": "stream",
     "text": [
      "2.384636591412559\n",
      "2.476819854452996\n",
      "2.495359664347606\n",
      "2.4990717605438237\n",
      "2.499814345215225\n",
      "2.4999628687672995\n",
      "2.4999925737424302\n",
      "2.499998514748045\n",
      "2.4999997029495913\n",
      "2.4999999405899174\n",
      "2.4999999881179837\n",
      "2.499999997623597\n",
      "2.4999999995247193\n",
      "2.499999999904944\n",
      "2.4999999999809885\n",
      "2.4999999999961977\n",
      "2.4999999999992397\n",
      "2.499999999999848\n",
      "2.49999999999997\n",
      "2.499999999999994\n"
     ]
    }
   ],
   "source": [
    "n = 3.75\n",
    "x = np.sqrt(n)\n",
    "for i in range(20):\n",
    "    x = np.sqrt(n + x)\n",
    "    print(x)\n"
   ],
   "metadata": {
    "collapsed": false,
    "pycharm": {
     "name": "#%%\n"
    }
   }
  }
 ],
 "metadata": {
  "kernelspec": {
   "display_name": "Python 3",
   "language": "python",
   "name": "python3"
  },
  "language_info": {
   "codemirror_mode": {
    "name": "ipython",
    "version": 2
   },
   "file_extension": ".py",
   "mimetype": "text/x-python",
   "name": "python",
   "nbconvert_exporter": "python",
   "pygments_lexer": "ipython2",
   "version": "2.7.6"
  }
 },
 "nbformat": 4,
 "nbformat_minor": 0
}