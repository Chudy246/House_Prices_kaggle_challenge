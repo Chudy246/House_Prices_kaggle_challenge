{
 "cells": [
  {
   "cell_type": "markdown",
   "metadata": {},
   "source": [
    "# Preprocess of house prices dataset\n",
    "In the following notebooks we're going to preprocess the data, that is remove missing variables, transform the variables and treat outliers. We're also going to build a specialized pipeline for those transformations.\n",
    "\n",
    "In this notebook specifically, model features will be chosen and transformed using pipelines for the test data."
   ]
  },
  {
   "cell_type": "code",
   "execution_count": 1,
   "metadata": {},
   "outputs": [],
   "source": [
    "# import dataset and libraries\n",
    "import numpy as np\n",
    "import pandas as pd\n",
    "from sklearn.model_selection import train_test_split\n",
    "from sklearn.metrics import mean_squared_error\n",
    "from sklearn.preprocessing import StandardScaler, PowerTransformer, MinMaxScaler, FunctionTransformer, OneHotEncoder\n",
    "from sklearn.compose import TransformedTargetRegressor, ColumnTransformer, make_column_transformer\n",
    "from sklearn.pipeline import FeatureUnion, Pipeline, make_pipeline\n",
    "from sklearn.base import BaseEstimator, TransformerMixin\n",
    "from sklearn.linear_model import LinearRegression"
   ]
  },
  {
   "cell_type": "code",
   "execution_count": 2,
   "metadata": {},
   "outputs": [],
   "source": [
    "train_data = pd.read_csv(\"data/train_preprocessed.csv\", index_col=\"Id\")\n",
    "test_data = pd.read_csv(\"data/test_preprocessed.csv\", index_col=\"Id\")"
   ]
  },
  {
   "cell_type": "markdown",
   "metadata": {},
   "source": [
    "Similarly as in non-pipelines version we defined columns under consideration and types of operations on them"
   ]
  },
  {
   "cell_type": "code",
   "execution_count": 3,
   "metadata": {},
   "outputs": [],
   "source": [
    "ord_model = [\"OverallQual\", \"ExterQual\", \"BsmtQual\", \"BsmtExposure\", \"CentralAir\", \"KitchenQual\", \"FireplaceQu\", \n",
    "             \"GarageFinish\", \"GarageCond\", \"Fence\"]\n",
    "int_model = [\"YearBuilt\", 'MoSold', 'YrSold']\n",
    "nom_model = [\"MSZoning\"]\n",
    "rat_model = [\"LotArea\", \"MasVnrArea\", \"TotalBsmtSF\", \"1stFlrSF\", \"2ndFlrSF\", \"GarageArea\", 'WoodDeckSF', 'OpenPorchSF', \n",
    "             \"TotRmsAbvGrd\", \"BsmtFullBath\", \"FullBath\", \"BedroomAbvGr\", 'Fireplaces', \"GarageCars\"]\n",
    "log_model = [\"LotArea\", \"MasVnrArea\", \"TotalBsmtSF\", \"1stFlrSF\", \"2ndFlrSF\", \"GarageArea\", 'WoodDeckSF', \n",
    "                'OpenPorchSF', \"TotRmsAbvGrd\"]\n",
    "\n",
    "target = \"SalePrice\"\n",
    "\n",
    "model_features = nom_model + ord_model + int_model + rat_model\n",
    "\n",
    "# We also need additional indexes for pipelines\n",
    "nom_index = [0]\n",
    "ord_index = [i for i in range(1, len(ord_model) + 1)]\n",
    "int_index = [i for i in range(len(nom_model + ord_model), len(nom_model + ord_model + int_model))]\n",
    "rat_index = [i for i in range(len(model_features) - len(rat_model), len(model_features))]\n",
    "log_index = [i for i in range(len(model_features) - len(rat_model), len(model_features + log_model) - len(rat_model))]"
   ]
  },
  {
   "cell_type": "code",
   "execution_count": 4,
   "metadata": {},
   "outputs": [],
   "source": [
    "X_test = test_data[model_features]\n",
    "X = train_data[model_features]\n",
    "y = train_data[target]"
   ]
  },
  {
   "cell_type": "markdown",
   "metadata": {},
   "source": [
    "First: I will encode ord_model features with ordinal encoding using df.replace\n",
    "Then:\n",
    "\n",
    "Step_1:\n",
    "- Ratio features which are heavily skewed or have large number of outliers will be treated with log transformation.\n",
    "- All interval variables will be normalized to start from 0. \n",
    "- \"MSZoning\" will be replaced by one-hot encoding.\n",
    "\n",
    "Step_2:\n",
    "- All ratio variables will be treated with Standard Scaler, everything else with MinMax Scaler.\n",
    "\n",
    "Step_3:\n",
    "- Target variable will be treated with a log transformation and then scaled using Standard Scaler."
   ]
  },
  {
   "cell_type": "code",
   "execution_count": 5,
   "metadata": {},
   "outputs": [],
   "source": [
    "# copying from without pipelines notebook\n",
    "exter_dict = {\"Ex\":5, \"Gd\":4, \"TA\":3, \"Fa\":2, \"Po\":1}\n",
    "bsmt_qual_dict = {\"Ex\":5, \"Gd\":4, \"TA\":3, \"Fa\":2, \"Po\":1, \"NoBsmt\":0}\n",
    "bsmt_exp_dict = {\"Gd\":4, \"Av\":3, \"Mn\":2, \"No\":1, \"NoBsmt\":0}\n",
    "cent_dict = {\"Y\":1, \"N\":0}\n",
    "kitch_dict = exter_dict\n",
    "fire_dict = {\"Ex\":5, \"Gd\":4, \"TA\":3, \"Fa\":2, \"Po\":1, \"NoFireplace\":0}\n",
    "garg_fin_dict = {\"Fin\":3, \"RFn\":2, \"Unf\":1, \"NoGarage\":0}\n",
    "garg_cond_dict = {\"Ex\":5, \"Gd\":4, \"TA\":3, \"Fa\":2, \"Po\":1, \"NoGarage\":0}\n",
    "fence_dict = {\"GdPrv\":2, \"GdWo\":2, \"MnPrv\":1, \"MnWw\":1, \"NoFence\":0}\n",
    "\n",
    "dict_list = [exter_dict, bsmt_qual_dict, bsmt_exp_dict, cent_dict, kitch_dict, fire_dict, \n",
    "             garg_fin_dict, garg_cond_dict, fence_dict]\n",
    "replacement_dict = dict(zip(ord_model[1:], dict_list))\n",
    "\n",
    "X_test = X_test.replace(replacement_dict)\n",
    "X = X.replace(replacement_dict)"
   ]
  },
  {
   "cell_type": "code",
   "execution_count": 6,
   "metadata": {},
   "outputs": [],
   "source": [
    "X_train,X_valid,y_train,y_valid = train_test_split(X,y,random_state=42,test_size=0.3)"
   ]
  },
  {
   "cell_type": "code",
   "execution_count": 7,
   "metadata": {},
   "outputs": [],
   "source": [
    "log_transformer = FunctionTransformer(np.log1p, check_inverse=False)\n",
    "\n",
    "step_1_trans = make_column_transformer(\n",
    "    (log_transformer, log_index), \n",
    "    (MinMaxScaler(), int_index),\n",
    "    (OneHotEncoder(), nom_index),\n",
    "    remainder=\"passthrough\",\n",
    "    sparse_threshold=0\n",
    ")\n",
    "\n",
    "step_2_trans = make_column_transformer(\n",
    "    (StandardScaler(), rat_index),\n",
    "    (MinMaxScaler(), ord_index + nom_index),\n",
    "    remainder=\"passthrough\",\n",
    "    sparse_threshold=0\n",
    ")"
   ]
  },
  {
   "cell_type": "code",
   "execution_count": 8,
   "metadata": {},
   "outputs": [],
   "source": [
    "pipe = make_pipeline(step_1_trans, step_2_trans)"
   ]
  },
  {
   "cell_type": "code",
   "execution_count": 9,
   "metadata": {},
   "outputs": [],
   "source": [
    "# transform X train\n",
    "pipe.fit(X_train)\n",
    "X_train = pipe.transform(X_train)\n",
    "# transform X valid\n",
    "pipe.fit(X_valid)\n",
    "X_valid = pipe.transform(X_valid)\n",
    "# transform X test\n",
    "pipe.fit(X_test)\n",
    "X_test = pipe.transform(X_test)"
   ]
  },
  {
   "cell_type": "code",
   "execution_count": 10,
   "metadata": {},
   "outputs": [
    {
     "data": {
      "text/plain": [
       "0.7962186024276492"
      ]
     },
     "execution_count": 10,
     "metadata": {},
     "output_type": "execute_result"
    }
   ],
   "source": [
    "reg_1 = LinearRegression(fit_intercept=False).fit(X_train, y_train)\n",
    "reg_1.score(X_train, y_train)"
   ]
  },
  {
   "cell_type": "code",
   "execution_count": 11,
   "metadata": {},
   "outputs": [],
   "source": [
    "y_predict = reg_1.predict(X_valid)"
   ]
  },
  {
   "cell_type": "code",
   "execution_count": 12,
   "metadata": {},
   "outputs": [
    {
     "data": {
      "text/plain": [
       "0.11764887162810558"
      ]
     },
     "execution_count": 12,
     "metadata": {},
     "output_type": "execute_result"
    }
   ],
   "source": [
    "mean_squared_error(np.log(y_valid + 1), np.log(y_predict + 1))"
   ]
  },
  {
   "cell_type": "code",
   "execution_count": 25,
   "metadata": {},
   "outputs": [],
   "source": [
    "# Predicting the prices for the test:\n",
    "y_test_pred = reg_1.predict(X_test)"
   ]
  },
  {
   "cell_type": "code",
   "execution_count": 26,
   "metadata": {},
   "outputs": [
    {
     "data": {
      "text/plain": [
       "array([1007946.89237482,  173290.87648018,  194900.34945233, ...,\n",
       "        185674.74861987,  151661.21052994,  255610.74505277])"
      ]
     },
     "execution_count": 26,
     "metadata": {},
     "output_type": "execute_result"
    }
   ],
   "source": [
    "y_test_pred"
   ]
  },
  {
   "cell_type": "code",
   "execution_count": 33,
   "metadata": {},
   "outputs": [],
   "source": [
    "submission = test_data.copy()\n",
    "submission = submission.drop(submission.columns, axis=1)\n",
    "submission[\"SalePrice\"] = y_test_pred\n",
    "submission.head()\n",
    "submission.to_csv(\"data/submission_1.csv\")"
   ]
  },
  {
   "cell_type": "markdown",
   "metadata": {},
   "source": [
    "Fitting to the log(y_train)"
   ]
  },
  {
   "cell_type": "code",
   "execution_count": 13,
   "metadata": {},
   "outputs": [
    {
     "data": {
      "text/plain": [
       "0.8644854795394824"
      ]
     },
     "execution_count": 13,
     "metadata": {},
     "output_type": "execute_result"
    }
   ],
   "source": [
    "log_y_train = np.log(y_train + 1)\n",
    "scaled_y_train = (log_y_train - np.mean(log_y_train)) / np.std(log_y_train)\n",
    "\n",
    "reg_2 = LinearRegression(fit_intercept=False).fit(X_train, log_y_train)\n",
    "reg_2.score(X_train, log_y_train)"
   ]
  },
  {
   "cell_type": "code",
   "execution_count": 14,
   "metadata": {},
   "outputs": [],
   "source": [
    "y_predict_valid = reg_2.predict(X_valid)"
   ]
  },
  {
   "cell_type": "code",
   "execution_count": 20,
   "metadata": {},
   "outputs": [
    {
     "data": {
      "text/plain": [
       "Id\n",
       "893     154500\n",
       "1106    325000\n",
       "414     115000\n",
       "523     159000\n",
       "1037    315500\n",
       "         ...  \n",
       "332     139000\n",
       "324     126175\n",
       "651     205950\n",
       "440     110000\n",
       "799     485000\n",
       "Name: SalePrice, Length: 438, dtype: int64"
      ]
     },
     "execution_count": 20,
     "metadata": {},
     "output_type": "execute_result"
    }
   ],
   "source": [
    "y_valid"
   ]
  },
  {
   "cell_type": "code",
   "execution_count": 17,
   "metadata": {},
   "outputs": [
    {
     "data": {
      "text/plain": [
       "array([ 14.43574044,  15.35261038,  21.58407881,  21.8210499 ,\n",
       "        15.44445898,  21.03051841,  14.95229682,  14.53222632,\n",
       "        21.05165572,  14.49158856,  14.60396844,  14.35524689,\n",
       "        15.88805917,  14.9009937 ,  14.76181304,  14.43966364,\n",
       "        14.89210888,  14.36121823,  21.59873541,  15.00308336,\n",
       "        14.80387565,  16.7049367 ,  14.75879117,  14.29667097,\n",
       "        14.97649652,  14.68723826,  14.91006453,  14.30840323,\n",
       "        14.78632326,  16.70015791,  14.37035367,  15.10425509,\n",
       "        14.87221618,  14.18278138,  15.24758201,  14.57002999,\n",
       "        14.53844611,  14.91728384,  15.3504325 ,  21.35853112,\n",
       "        21.56553179,  15.08404339,  14.31271441,  15.3762245 ,\n",
       "        14.43964669,  21.76519378,  14.27151654,  14.34180013,\n",
       "        15.74209327,  14.43174278,  14.31128665,  14.90719351,\n",
       "        21.43738133,  15.45975675,  21.78792056,  15.0817064 ,\n",
       "        14.97827139,  14.71710963,  14.64141652,  14.13121481,\n",
       "        20.88719845,  14.50165086,  15.26328721,  15.21601891,\n",
       "        15.37402938,  15.03241921,  14.32573024,  15.43095797,\n",
       "        14.31574049,  16.32923741,  14.49528221,  14.44423453,\n",
       "        14.19223483,  14.02530491,  15.68012366,  14.69302469,\n",
       "        15.26727995,  15.25383421,  14.4331799 ,  14.20981174,\n",
       "        21.26418165,  21.38265219,  14.45264406,  21.33466214,\n",
       "        14.51707787,  21.52201439,  17.02446482,  14.92708153,\n",
       "        21.70965671,  14.86080561,  21.73669896,  14.5190718 ,\n",
       "        14.30213792,  15.20194073,  14.29282649,  14.85279397,\n",
       "        14.59448252,  16.52069236,  14.88371676,  15.16179133,\n",
       "        14.81963657,  14.89444478,  15.18698508,  21.58533369,\n",
       "        14.84774739,  14.75644203,  14.59478403,  15.12135774,\n",
       "        14.42977123,  14.71922224,  20.78548458,  14.29106967,\n",
       "        14.38847883,  21.54093632,  14.91608696,  21.49785375,\n",
       "        21.28891138,  14.39848148,  21.81421995,  15.19129065,\n",
       "       104.35516815,  21.72199824,  14.80036804,  14.77894876,\n",
       "        14.86966777,  14.39369258,  14.96132781,  21.34312231,\n",
       "        14.48032987,  14.79626817,  14.77322268,  15.40193879,\n",
       "        14.84091147,  21.5381191 ,  15.27878468,  15.58472469,\n",
       "        15.37786566,  14.43563465,  15.00935428,  15.93030308,\n",
       "        15.424903  ,  14.34882778,  14.84978968,  14.77307506,\n",
       "        14.49612561,  14.44519158,  14.84171826,  14.93404746,\n",
       "        14.2959473 ,  13.88006554,  14.23938723,  14.50007036,\n",
       "        15.19893731,  14.67922685,  21.24790815,  14.44509043,\n",
       "        14.60222871,  14.65258212,  14.0031523 ,  14.50659449,\n",
       "        15.00623094,  14.53032966,  15.25269311,  14.59620331,\n",
       "        14.36592239,  14.37114702,  16.73064282,  15.38533825,\n",
       "        15.69337252,  14.94725699,  15.60386861,  14.00126677,\n",
       "        14.20796934,  21.68156707,  15.32253298,  14.58594888,\n",
       "        14.52967728,  15.0409333 ,  21.54932803,  16.34467499,\n",
       "        14.7088527 ,  15.7514741 ,  14.44634271,  21.61020359,\n",
       "        15.1688765 ,  21.86147166,  15.26505347,  15.03723926,\n",
       "        14.88618355,  21.13914342,  21.48133586,  14.23987291,\n",
       "        14.6069583 ,  14.61458728,  14.8318183 ,  14.70969196,\n",
       "        16.69478015,  15.59187282,  16.71605252,  14.42144176,\n",
       "        15.23608051,  14.8731555 ,  21.43971098,  15.30369952,\n",
       "        14.9204877 ,  14.42943027,  15.08550391,  14.49072153,\n",
       "        14.64175712,  14.29273594,  15.15555963,  14.63497066,\n",
       "        14.28197471,  16.31261623,  15.02036459,  16.93277971,\n",
       "        14.946882  ,  14.49519844,  14.49005869,  14.63369422,\n",
       "        14.48884998,  15.01175225,  14.88694514,  21.39577903,\n",
       "        15.10042043,  14.50388963,  15.83388956,  14.22481827,\n",
       "        14.59809822,  15.86580123,  14.17891676,  14.67387483,\n",
       "        14.39302444,  14.40854766,  15.09513734,  14.38154353,\n",
       "        14.83303526,  14.65100929,  15.11997603,  14.48869658,\n",
       "        21.47112248,  15.23192908,  14.88933266,  15.61575181,\n",
       "        14.79171419,  14.342552  ,  14.72893793,  14.77563583,\n",
       "        21.66557604,  21.33099696,  14.80090802,  14.85201407,\n",
       "        14.5224518 ,  14.13530287,  14.4651433 ,  14.51518128,\n",
       "        21.49193169,  21.28231388,  14.70633585,  15.15949012,\n",
       "        15.33054132,  14.77765269,  14.3883916 ,  15.08821074,\n",
       "        15.28982138,  15.00472608,  21.86169996,  21.71040071,\n",
       "        14.28464185,  14.75465917,  15.67759433,  14.94261158,\n",
       "        15.0147364 ,  21.25725829,  14.32040962,  14.42348743,\n",
       "        21.87288279,  15.28028643,  14.90920678,  14.57861481,\n",
       "        14.95249002,  21.1915145 ,  16.61723829,  14.24674211,\n",
       "        15.3280309 ,  14.78795964,  14.93867642,  21.4305065 ,\n",
       "        15.18447395,  14.93423327,  14.35224508,  14.24803938,\n",
       "        14.47434643,  14.71088094,  14.03139955,  14.62770196,\n",
       "        14.5014295 ,  14.4102279 ,  14.80204037,  21.49531031,\n",
       "        14.83816127,  15.03703928,  14.48365101,  14.62472431,\n",
       "        14.89595184,  14.91782671,  14.61110124,  14.88988602,\n",
       "        15.15328562,  21.51143089,  14.4916367 ,  14.91843548,\n",
       "        14.01112629,  14.96447447,  21.65615435,  14.82750296,\n",
       "        14.8594011 ,  16.44152349,  15.2585357 ,  14.01238744,\n",
       "        14.91222648,  14.46391842,  14.47368589,  13.99061017,\n",
       "        14.88138791,  14.68927817,  14.44161739,  16.76387077,\n",
       "        14.75196209,  14.19595692,  14.6757058 ,  14.67292131,\n",
       "        14.36743618,  22.2407256 ,  16.45006722,  14.41712536,\n",
       "        14.39981804,  21.2728218 ,  14.04952171,  16.77804909,\n",
       "        14.76638291,  14.40980732, 104.29727544,  14.84308609,\n",
       "        15.11012498,  17.38677486,  15.46839708,  21.52289204,\n",
       "        15.03831301,  14.25086587,  22.49580811,  15.61229421,\n",
       "        22.25735197,  14.84215308,  15.14103548,  14.43920788,\n",
       "        14.45443288,  14.00294615,  16.6837721 ,  15.35076257,\n",
       "        14.8752304 ,  14.5049722 ,  15.11387317,  15.07988748,\n",
       "        14.45634268,  14.8597813 ,  14.71519069,  14.40679618,\n",
       "        14.55574872,  14.56638198,  14.37259588,  14.74713248,\n",
       "        14.53767433,  14.98285533,  14.69858286,  21.70640049,\n",
       "        14.88782718,  14.87447582,  21.1970054 ,  14.9085206 ,\n",
       "        14.50453691,  14.94720757,  14.85017294,  14.65918719,\n",
       "        21.6224539 ,  15.05373788,  14.45862206,  21.56483733,\n",
       "        17.11417018,  14.76895866,  21.64667666,  14.69401317,\n",
       "        14.52383908,  15.39979732,  14.60166315,  15.64216066,\n",
       "        21.66162425,  21.79572531,  14.80851455,  21.53284548,\n",
       "        14.6884205 ,  15.51429625, 104.17783753,  14.63397012,\n",
       "        14.50386415,  14.13291761,  14.87523451,  14.78124094,\n",
       "        14.94160049,  14.88596758,  15.03586601,  14.97456994,\n",
       "        13.87972036,  15.33784569,  14.43993936,  15.48822104,\n",
       "        14.30696033,  15.49623121,  15.1689126 ,  14.39911421,\n",
       "        14.9358525 ,  15.1473168 ,  14.88264125,  14.74160365,\n",
       "        15.15075066,  14.20417663,  14.94564134,  14.79369277,\n",
       "        16.70963347,  16.812895  ,  14.28480452,  14.52296925,\n",
       "        14.9253417 ,  14.40954503,  21.41954909,  16.63656066,\n",
       "        14.5573758 ,  15.68018648])"
      ]
     },
     "execution_count": 17,
     "metadata": {},
     "output_type": "execute_result"
    }
   ],
   "source": [
    "y_predict_valid"
   ]
  },
  {
   "cell_type": "code",
   "execution_count": 23,
   "metadata": {},
   "outputs": [
    {
     "data": {
      "text/plain": [
       "61.77296877708384"
      ]
     },
     "execution_count": 23,
     "metadata": {},
     "output_type": "execute_result"
    }
   ],
   "source": [
    "mean_squared_error(np.log(y_valid + 1), y_predict_valid) # Why is it so high!?"
   ]
  }
 ],
 "metadata": {
  "kernelspec": {
   "display_name": "Python 3",
   "language": "python",
   "name": "python3"
  },
  "language_info": {
   "codemirror_mode": {
    "name": "ipython",
    "version": 3
   },
   "file_extension": ".py",
   "mimetype": "text/x-python",
   "name": "python",
   "nbconvert_exporter": "python",
   "pygments_lexer": "ipython3",
   "version": "3.8.9"
  }
 },
 "nbformat": 4,
 "nbformat_minor": 4
}
